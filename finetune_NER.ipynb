{
 "cells": [
  {
   "cell_type": "code",
   "execution_count": 1,
   "id": "0aeb6844-fe58-4dfb-a7ca-1c7433a60eae",
   "metadata": {
    "tags": []
   },
   "outputs": [
    {
     "name": "stderr",
     "output_type": "stream",
     "text": [
      "/home/shemmati/.local/lib/python3.7/site-packages/tqdm/auto.py:21: TqdmWarning: IProgress not found. Please update jupyter and ipywidgets. See https://ipywidgets.readthedocs.io/en/stable/user_install.html\n",
      "  from .autonotebook import tqdm as notebook_tqdm\n"
     ]
    },
    {
     "name": "stdout",
     "output_type": "stream",
     "text": [
      "cuda\n"
     ]
    }
   ],
   "source": [
    "import torch\n",
    "from transformers import BertTokenizer, BertForTokenClassification, Trainer, TrainingArguments\n",
    "from datasets import load_dataset\n",
    "from transformers import AutoTokenizer, AutoModelForTokenClassification\n",
    "from transformers import pipeline\n",
    "import wandb\n",
    "\n",
    "device = \"cuda\" if torch.cuda.is_available() else \"cpu\"\n",
    "print(device)"
   ]
  },
  {
   "cell_type": "markdown",
   "id": "080572ed-9a6d-4a52-972e-a14c8ca2d0e2",
   "metadata": {},
   "source": [
    "## 1. Load your dataset\n"
   ]
  },
  {
   "cell_type": "code",
   "execution_count": 3,
   "id": "0ebb7857-16fa-4d93-a5c6-bae39d884fe6",
   "metadata": {
    "tags": []
   },
   "outputs": [
    {
     "name": "stdout",
     "output_type": "stream",
     "text": [
      "Downloading and preparing dataset text/default to /home/shemmati/.cache/huggingface/datasets/text/default-cd94b3e36d714c82/0.0.0/cb1e9bd71a82ad27976be3b12b407850fe2837d80c22c5e03a28949843a8ace2...\n"
     ]
    },
    {
     "name": "stderr",
     "output_type": "stream",
     "text": [
      "Downloading data files: 100%|████████████████████████████████████████████████████████████████████████████████████████████████████████████████████████████████████████████████████| 3/3 [00:00<00:00, 3078.76it/s]\n",
      "Extracting data files: 100%|███████████████████████████████████████████████████████████████████████████████████████████████████████████████████████████████████████████████████████| 3/3 [00:00<00:00, 84.79it/s]\n",
      "                                                                      \r"
     ]
    },
    {
     "name": "stdout",
     "output_type": "stream",
     "text": [
      "Dataset text downloaded and prepared to /home/shemmati/.cache/huggingface/datasets/text/default-cd94b3e36d714c82/0.0.0/cb1e9bd71a82ad27976be3b12b407850fe2837d80c22c5e03a28949843a8ace2. Subsequent calls will reuse this data.\n"
     ]
    },
    {
     "name": "stderr",
     "output_type": "stream",
     "text": [
      "100%|██████████████████████████████████████████████████████████████████████████████████████████████████████████████████████████████████████████████████████████████████████████████| 3/3 [00:01<00:00,  2.00it/s]\n",
      "                                                                                                                                                                                                                 \r"
     ]
    }
   ],
   "source": [
    "def process_sample(batch):\n",
    "    tokens_list = []\n",
    "    tags_list = []\n",
    "    tokens = []\n",
    "    tags = []\n",
    "    \n",
    "    for line in batch['text']:\n",
    "        if line:  # non-empty line means we have a token-tag pair\n",
    "            token, tag = line.split()  # assuming space is the delimiter\n",
    "            tokens.append(token)\n",
    "            tags.append(tag)\n",
    "        else:  # empty line means end of sentence\n",
    "            tokens_list.append(tokens)\n",
    "            tags_list.append(tags)\n",
    "            tokens = []\n",
    "            tags = []\n",
    "    \n",
    "    # Add remaining tokens and tags if there's any\n",
    "    if tokens:\n",
    "        tokens_list.append(tokens)\n",
    "        tags_list.append(tags)\n",
    "    \n",
    "    return {'tokens': tokens_list, 'tags': tags_list}\n",
    "    \n",
    "\n",
    "data_files = {\n",
    "    'train': 'data/filtered_train.txt',\n",
    "    'validation': 'data/filtered_val.txt',\n",
    "    'test': 'data/filtered_test.txt'\n",
    "}\n",
    "\n",
    "# Load the dataset from local files without specifying a script\n",
    "dataset = load_dataset('text', data_files=data_files)\n",
    "pdataset = dataset.map(process_sample, batched=True, remove_columns=['text'])\n"
   ]
  },
  {
   "cell_type": "markdown",
   "id": "f089fbfc-c092-469d-bad8-e14b21ac27bb",
   "metadata": {},
   "source": [
    "## 2. Load the tokenizer and model\n"
   ]
  },
  {
   "cell_type": "code",
   "execution_count": 4,
   "id": "7c3795be-392b-44fc-89ab-6c65077d1744",
   "metadata": {
    "tags": []
   },
   "outputs": [],
   "source": [
    "id2label = {\n",
    "    0: \"O\",\n",
    "    1: \"B-ap_name1\",\n",
    "    2: \"I-ap_name1\",\n",
    "    3: \"B-vz1\",\n",
    "    4: \"I-vz1\",\n",
    "    5: \"B-coordx1\",\n",
    "    6: \"I-coordx1\",\n",
    "    7: \"B-coordy1\",\n",
    "    8: \"I-coordy1\",\n",
    "    9: \"B-type1\",\n",
    "    10: \"I-type1\",\n",
    "}\n",
    "label2id = {\"O\": 0,\n",
    "          \"B-ap_name1\": 1,\n",
    "          \"I-ap_name1\": 2,\n",
    "          \"B-vz1\": 3,\n",
    "          \"I-vz1\": 4,\n",
    "          \"B-coordx1\": 5,\n",
    "          \"I-coordx1\": 6,\n",
    "          \"B-coordy1\": 7,\n",
    "          \"I-coordy1\": 8,\n",
    "          \"B-type1\": 9,\n",
    "          \"I-type1\": 10,\n",
    "         }"
   ]
  },
  {
   "cell_type": "code",
   "execution_count": 5,
   "id": "c6e6eaf2-03f8-4430-8515-9a59d61ad4f6",
   "metadata": {
    "tags": []
   },
   "outputs": [
    {
     "name": "stderr",
     "output_type": "stream",
     "text": [
      "Some weights of BertForTokenClassification were not initialized from the model checkpoint at dslim/bert-base-NER and are newly initialized because the shapes did not match:\n",
      "- classifier.bias: found shape torch.Size([9]) in the checkpoint and torch.Size([11]) in the model instantiated\n",
      "- classifier.weight: found shape torch.Size([9, 768]) in the checkpoint and torch.Size([11, 768]) in the model instantiated\n",
      "You should probably TRAIN this model on a down-stream task to be able to use it for predictions and inference.\n"
     ]
    }
   ],
   "source": [
    "tokenizer = AutoTokenizer.from_pretrained(\"dslim/bert-base-NER\", add_prefix_space=True)\n",
    "model = AutoModelForTokenClassification.from_pretrained(\"dslim/bert-base-NER\", num_labels=11, id2label=id2label, label2id=label2id,ignore_mismatched_sizes=True)\n",
    "\n",
    "# Define a data collator to handle token-level tasks (like NER)\n",
    "from transformers import DataCollatorForTokenClassification\n",
    "data_collator = DataCollatorForTokenClassification(tokenizer)\n"
   ]
  },
  {
   "cell_type": "markdown",
   "id": "26296055-aea6-4ec1-8d17-60f71cf46cca",
   "metadata": {},
   "source": [
    "## 3. Tokenize the dataset\n"
   ]
  },
  {
   "cell_type": "code",
   "execution_count": 6,
   "id": "cac9aa3e-9b5c-4975-938b-2cd1663a283b",
   "metadata": {
    "tags": []
   },
   "outputs": [
    {
     "name": "stderr",
     "output_type": "stream",
     "text": [
      "                                                                                                                                                                                                                 \r"
     ]
    }
   ],
   "source": [
    "def recursive_label2id_conversion(label, label2id):\n",
    "    if isinstance(label, str):\n",
    "        return label2id[label]\n",
    "    elif isinstance(label, list):\n",
    "        return [recursive_label2id_conversion(l, label2id) for l in label]\n",
    "    else:\n",
    "        raise ValueError(\"Unsupported label type\")\n",
    "        \n",
    "def tokenize_and_align_labels2(examples, label2id):\n",
    "    tokenized_inputs = tokenizer(examples[\"tokens\"], truncation=True, is_split_into_words=True)\n",
    "\n",
    "    labels = []\n",
    "    for i, label in enumerate(examples[f\"tags\"]):\n",
    "        converted_label = recursive_label2id_conversion(label, label2id)\n",
    "\n",
    "        word_ids = tokenized_inputs.word_ids(batch_index=i)\n",
    "        previous_word_idx = None\n",
    "        label_ids = []\n",
    "        for word_idx in word_ids:\n",
    "            if word_idx is None:\n",
    "                label_ids.append(-100)\n",
    "            elif word_idx != previous_word_idx:\n",
    "                label_ids.append(converted_label[word_idx])\n",
    "            else:\n",
    "                label_ids.append(-100)\n",
    "            previous_word_idx = word_idx\n",
    "        labels.append(label_ids)\n",
    "\n",
    "    tokenized_inputs[\"labels\"] = labels\n",
    "    return tokenized_inputs\n",
    "\n",
    "#tokenized_datasets = pdataset.map(tokenize_function, batched=True, num_proc=4)\n",
    "tokenized_datap = pdataset.map(tokenize_and_align_labels2, batched=True, fn_kwargs={\"label2id\": label2id},num_proc=4)\n"
   ]
  },
  {
   "cell_type": "markdown",
   "id": "d4450100-f7f4-4a18-91cc-0cda80f70c58",
   "metadata": {},
   "source": [
    "## 4. Train\n"
   ]
  },
  {
   "cell_type": "code",
   "execution_count": null,
   "id": "28bb1b65-a1f5-4951-b11e-017635d2442c",
   "metadata": {
    "tags": []
   },
   "outputs": [
    {
     "name": "stderr",
     "output_type": "stream",
     "text": [
      "\u001b[34m\u001b[1mwandb\u001b[0m: Currently logged in as: \u001b[33mshoubaneh\u001b[0m. Use \u001b[1m`wandb login --relogin`\u001b[0m to force relogin\n"
     ]
    },
    {
     "data": {
      "text/html": [
       "Tracking run with wandb version 0.15.12"
      ],
      "text/plain": [
       "<IPython.core.display.HTML object>"
      ]
     },
     "metadata": {},
     "output_type": "display_data"
    },
    {
     "data": {
      "text/html": [
       "Run data is saved locally in <code>/home/shemmati/Work/Projects/NEDAI/wandb/run-20231103_143417-2ov72u0t</code>"
      ],
      "text/plain": [
       "<IPython.core.display.HTML object>"
      ]
     },
     "metadata": {},
     "output_type": "display_data"
    },
    {
     "data": {
      "text/html": [
       "Syncing run <strong><a href='https://wandb.ai/shoubaneh/NEDAI/runs/2ov72u0t' target=\"_blank\">try1</a></strong> to <a href='https://wandb.ai/shoubaneh/NEDAI' target=\"_blank\">Weights & Biases</a> (<a href='https://wandb.me/run' target=\"_blank\">docs</a>)<br/>"
      ],
      "text/plain": [
       "<IPython.core.display.HTML object>"
      ]
     },
     "metadata": {},
     "output_type": "display_data"
    },
    {
     "data": {
      "text/html": [
       " View project at <a href='https://wandb.ai/shoubaneh/NEDAI' target=\"_blank\">https://wandb.ai/shoubaneh/NEDAI</a>"
      ],
      "text/plain": [
       "<IPython.core.display.HTML object>"
      ]
     },
     "metadata": {},
     "output_type": "display_data"
    },
    {
     "data": {
      "text/html": [
       " View run at <a href='https://wandb.ai/shoubaneh/NEDAI/runs/2ov72u0t' target=\"_blank\">https://wandb.ai/shoubaneh/NEDAI/runs/2ov72u0t</a>"
      ],
      "text/plain": [
       "<IPython.core.display.HTML object>"
      ]
     },
     "metadata": {},
     "output_type": "display_data"
    },
    {
     "name": "stderr",
     "output_type": "stream",
     "text": [
      "/home/shemmati/.local/lib/python3.7/site-packages/transformers/optimization.py:415: FutureWarning: This implementation of AdamW is deprecated and will be removed in a future version. Use the PyTorch implementation torch.optim.AdamW instead, or set `no_deprecation_warning=True` to disable this warning\n",
      "  FutureWarning,\n",
      "You're using a BertTokenizerFast tokenizer. Please note that with a fast tokenizer, using the `__call__` method is faster than using a method to encode the text followed by a call to the `pad` method to get a padded encoding.\n"
     ]
    },
    {
     "data": {
      "text/html": [
       "\n",
       "    <div>\n",
       "      \n",
       "      <progress value='62025' max='91290' style='width:300px; height:20px; vertical-align: middle;'></progress>\n",
       "      [62025/91290 1:50:10 < 51:59, 9.38 it/s, Epoch 20.38/30]\n",
       "    </div>\n",
       "    <table border=\"1\" class=\"dataframe\">\n",
       "  <thead>\n",
       " <tr style=\"text-align: left;\">\n",
       "      <th>Epoch</th>\n",
       "      <th>Training Loss</th>\n",
       "      <th>Validation Loss</th>\n",
       "    </tr>\n",
       "  </thead>\n",
       "  <tbody>\n",
       "    <tr>\n",
       "      <td>1</td>\n",
       "      <td>0.016500</td>\n",
       "      <td>0.025839</td>\n",
       "    </tr>\n",
       "    <tr>\n",
       "      <td>2</td>\n",
       "      <td>0.011300</td>\n",
       "      <td>0.030227</td>\n",
       "    </tr>\n",
       "    <tr>\n",
       "      <td>3</td>\n",
       "      <td>0.012000</td>\n",
       "      <td>0.041925</td>\n",
       "    </tr>\n",
       "    <tr>\n",
       "      <td>4</td>\n",
       "      <td>0.014500</td>\n",
       "      <td>0.040353</td>\n",
       "    </tr>\n",
       "    <tr>\n",
       "      <td>5</td>\n",
       "      <td>0.006700</td>\n",
       "      <td>0.046536</td>\n",
       "    </tr>\n",
       "    <tr>\n",
       "      <td>6</td>\n",
       "      <td>0.005000</td>\n",
       "      <td>0.044650</td>\n",
       "    </tr>\n",
       "    <tr>\n",
       "      <td>7</td>\n",
       "      <td>0.004200</td>\n",
       "      <td>0.044733</td>\n",
       "    </tr>\n",
       "    <tr>\n",
       "      <td>8</td>\n",
       "      <td>0.003900</td>\n",
       "      <td>0.052803</td>\n",
       "    </tr>\n",
       "    <tr>\n",
       "      <td>9</td>\n",
       "      <td>0.005400</td>\n",
       "      <td>0.045724</td>\n",
       "    </tr>\n",
       "    <tr>\n",
       "      <td>10</td>\n",
       "      <td>0.004000</td>\n",
       "      <td>0.054415</td>\n",
       "    </tr>\n",
       "    <tr>\n",
       "      <td>11</td>\n",
       "      <td>0.001300</td>\n",
       "      <td>0.063024</td>\n",
       "    </tr>\n",
       "    <tr>\n",
       "      <td>12</td>\n",
       "      <td>0.002300</td>\n",
       "      <td>0.061138</td>\n",
       "    </tr>\n",
       "    <tr>\n",
       "      <td>13</td>\n",
       "      <td>0.003400</td>\n",
       "      <td>0.060295</td>\n",
       "    </tr>\n",
       "    <tr>\n",
       "      <td>14</td>\n",
       "      <td>0.000100</td>\n",
       "      <td>0.066316</td>\n",
       "    </tr>\n",
       "    <tr>\n",
       "      <td>15</td>\n",
       "      <td>0.001900</td>\n",
       "      <td>0.060374</td>\n",
       "    </tr>\n",
       "    <tr>\n",
       "      <td>16</td>\n",
       "      <td>0.001800</td>\n",
       "      <td>0.055123</td>\n",
       "    </tr>\n",
       "    <tr>\n",
       "      <td>17</td>\n",
       "      <td>0.001500</td>\n",
       "      <td>0.068811</td>\n",
       "    </tr>\n",
       "    <tr>\n",
       "      <td>18</td>\n",
       "      <td>0.002600</td>\n",
       "      <td>0.058214</td>\n",
       "    </tr>\n",
       "    <tr>\n",
       "      <td>19</td>\n",
       "      <td>0.000100</td>\n",
       "      <td>0.071089</td>\n",
       "    </tr>\n",
       "    <tr>\n",
       "      <td>20</td>\n",
       "      <td>0.000800</td>\n",
       "      <td>0.063824</td>\n",
       "    </tr>\n",
       "  </tbody>\n",
       "</table><p>"
      ],
      "text/plain": [
       "<IPython.core.display.HTML object>"
      ]
     },
     "metadata": {},
     "output_type": "display_data"
    }
   ],
   "source": [
    "wandb.init(project='NEDAI',name='try1')\n",
    "\n",
    "model.to(device)\n",
    "\n",
    "training_args = TrainingArguments(\n",
    "    per_device_train_batch_size=8,\n",
    "    per_device_eval_batch_size=8,\n",
    "    num_train_epochs=30,\n",
    "    evaluation_strategy=\"epoch\",\n",
    "    logging_dir=\"./logs\",\n",
    "    report_to=\"wandb\",  # Log to wandb\n",
    "    logging_steps=20,\n",
    "    do_train=True,\n",
    "    do_eval=True,\n",
    "    output_dir=\"./results\",\n",
    ")\n",
    "\n",
    "# Define the Trainer\n",
    "trainer = Trainer(\n",
    "    model = model,\n",
    "    args = training_args,\n",
    "    data_collator = data_collator,\n",
    "    train_dataset = tokenized_datap[\"train\"],\n",
    "    eval_dataset = tokenized_datap[\"validation\"],\n",
    "    tokenizer = tokenizer,\n",
    ")\n",
    "\n",
    "# Train the model\n",
    "trainer.train()\n",
    "wandb.finish()\n",
    "\n",
    "# Save the model\n",
    "model.save_pretrained(\"./ner_model\")\n",
    "tokenizer.save_pretrained(\"./ner_model\")"
   ]
  },
  {
   "cell_type": "markdown",
   "id": "ffad829e-ee8f-457f-9030-3e2e74af5458",
   "metadata": {},
   "source": [
    "# Inference"
   ]
  },
  {
   "cell_type": "code",
   "execution_count": 1,
   "id": "3931140c-147e-4cd6-89eb-cb8f9d4232e4",
   "metadata": {
    "tags": []
   },
   "outputs": [
    {
     "name": "stderr",
     "output_type": "stream",
     "text": [
      "/home/shemmati/.local/lib/python3.7/site-packages/tqdm/auto.py:21: TqdmWarning: IProgress not found. Please update jupyter and ipywidgets. See https://ipywidgets.readthedocs.io/en/stable/user_install.html\n",
      "  from .autonotebook import tqdm as notebook_tqdm\n"
     ]
    },
    {
     "name": "stdout",
     "output_type": "stream",
     "text": [
      "[{'entity': 'B-ap_name1', 'score': 0.9995246, 'index': 9, 'word': 'M', 'start': 43, 'end': 44}, {'entity': 'I-ap_name1', 'score': 0.9955052, 'index': 10, 'word': '##45', 'start': 44, 'end': 46}, {'entity': 'B-ap_name1', 'score': 0.9999764, 'index': 12, 'word': 'N', 'start': 51, 'end': 52}, {'entity': 'I-ap_name1', 'score': 0.9829663, 'index': 13, 'word': '##GC', 'start': 52, 'end': 54}, {'entity': 'I-ap_name1', 'score': 0.99999416, 'index': 14, 'word': '213', 'start': 55, 'end': 58}, {'entity': 'I-ap_name1', 'score': 0.999987, 'index': 15, 'word': '##2', 'start': 58, 'end': 59}]\n"
     ]
    }
   ],
   "source": [
    "from transformers import AutoTokenizer, AutoModelForTokenClassification\n",
    "from transformers import pipeline\n",
    "\n",
    "tokenizer = AutoTokenizer.from_pretrained(\"./results/checkpoint-62500/\")\n",
    "model = AutoModelForTokenClassification.from_pretrained(\"./results/checkpoint-62500/\")\n",
    "\n",
    "nlp = pipeline(\"ner\", model=model, tokenizer=tokenizer)\n",
    "example = \"In this work we studied in detail galaxies M45 and NGC 2132 which are at z=0.1 and they appeared to be red.\"\n",
    "\n",
    "ner_results = nlp(example)\n",
    "print(ner_results)"
   ]
  },
  {
   "cell_type": "code",
   "execution_count": null,
   "id": "c1291a7a-0439-42ad-8ea2-71822365fafa",
   "metadata": {},
   "outputs": [],
   "source": []
  }
 ],
 "metadata": {
  "kernelspec": {
   "display_name": "Python 3 (ipykernel)",
   "language": "python",
   "name": "python3"
  },
  "language_info": {
   "codemirror_mode": {
    "name": "ipython",
    "version": 3
   },
   "file_extension": ".py",
   "mimetype": "text/x-python",
   "name": "python",
   "nbconvert_exporter": "python",
   "pygments_lexer": "ipython3",
   "version": "3.7.3"
  }
 },
 "nbformat": 4,
 "nbformat_minor": 5
}
