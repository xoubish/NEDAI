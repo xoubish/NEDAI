{
 "cells": [
  {
   "cell_type": "code",
   "execution_count": 1,
   "id": "0aeb6844-fe58-4dfb-a7ca-1c7433a60eae",
   "metadata": {
    "tags": []
   },
   "outputs": [
    {
     "name": "stdout",
     "output_type": "stream",
     "text": [
      "cpu\n"
     ]
    }
   ],
   "source": [
    "import torch\n",
    "from transformers import BertTokenizer, BertForTokenClassification, Trainer, TrainingArguments\n",
    "from datasets import load_dataset\n",
    "from transformers import AutoTokenizer, AutoModelForTokenClassification\n",
    "from transformers import pipeline\n",
    "import wandb\n",
    "\n",
    "device = \"cuda\" if torch.cuda.is_available() else \"cpu\"\n",
    "print(device)"
   ]
  },
  {
   "cell_type": "markdown",
   "id": "080572ed-9a6d-4a52-972e-a14c8ca2d0e2",
   "metadata": {},
   "source": [
    "## 1. Load your dataset\n"
   ]
  },
  {
   "cell_type": "code",
   "execution_count": 2,
   "id": "0ebb7857-16fa-4d93-a5c6-bae39d884fe6",
   "metadata": {
    "tags": []
   },
   "outputs": [
    {
     "data": {
      "application/vnd.jupyter.widget-view+json": {
       "model_id": "1c0ebcd923a84cddbba29c5afb016137",
       "version_major": 2,
       "version_minor": 0
      },
      "text/plain": [
       "Downloading data files:   0%|          | 0/3 [00:00<?, ?it/s]"
      ]
     },
     "metadata": {},
     "output_type": "display_data"
    },
    {
     "data": {
      "application/vnd.jupyter.widget-view+json": {
       "model_id": "51a972fa9b0c43728e24936c1dfd4e6c",
       "version_major": 2,
       "version_minor": 0
      },
      "text/plain": [
       "Extracting data files:   0%|          | 0/3 [00:00<?, ?it/s]"
      ]
     },
     "metadata": {},
     "output_type": "display_data"
    },
    {
     "data": {
      "application/vnd.jupyter.widget-view+json": {
       "model_id": "32e3aeaa66914783bab497d699ca2a25",
       "version_major": 2,
       "version_minor": 0
      },
      "text/plain": [
       "Generating train split: 0 examples [00:00, ? examples/s]"
      ]
     },
     "metadata": {},
     "output_type": "display_data"
    },
    {
     "data": {
      "application/vnd.jupyter.widget-view+json": {
       "model_id": "0e52bf4131cf4a45924354d0d9d80c86",
       "version_major": 2,
       "version_minor": 0
      },
      "text/plain": [
       "Generating validation split: 0 examples [00:00, ? examples/s]"
      ]
     },
     "metadata": {},
     "output_type": "display_data"
    },
    {
     "data": {
      "application/vnd.jupyter.widget-view+json": {
       "model_id": "11dc94d0c4c24aeba9658ef8afc1cab5",
       "version_major": 2,
       "version_minor": 0
      },
      "text/plain": [
       "Generating test split: 0 examples [00:00, ? examples/s]"
      ]
     },
     "metadata": {},
     "output_type": "display_data"
    },
    {
     "data": {
      "application/vnd.jupyter.widget-view+json": {
       "model_id": "456663feec694438b9b1d2780ec67994",
       "version_major": 2,
       "version_minor": 0
      },
      "text/plain": [
       "Map:   0%|          | 0/6821406 [00:00<?, ? examples/s]"
      ]
     },
     "metadata": {},
     "output_type": "display_data"
    },
    {
     "data": {
      "application/vnd.jupyter.widget-view+json": {
       "model_id": "246c306476d147e3bfa0d52e9940f1c7",
       "version_major": 2,
       "version_minor": 0
      },
      "text/plain": [
       "Map:   0%|          | 0/822783 [00:00<?, ? examples/s]"
      ]
     },
     "metadata": {},
     "output_type": "display_data"
    },
    {
     "data": {
      "application/vnd.jupyter.widget-view+json": {
       "model_id": "c5ffa6f464e844ca8f1a5ca2eae0c057",
       "version_major": 2,
       "version_minor": 0
      },
      "text/plain": [
       "Map:   0%|          | 0/775456 [00:00<?, ? examples/s]"
      ]
     },
     "metadata": {},
     "output_type": "display_data"
    }
   ],
   "source": [
    "def process_conll_data(example):\n",
    "    # Split lines and filter out empty lines\n",
    "    lines = [line.strip() for line in example['text'].split('\\n') if line.strip()]\n",
    "\n",
    "    # Split each line into its components\n",
    "    tokens, ner_tags = [], []\n",
    "    for line in lines:\n",
    "        parts = line.split()\n",
    "        if len(parts) == 2:  # Ensure that each line has exactly 2 parts\n",
    "            tokens.append(parts[0])\n",
    "            ner_tags.append(parts[1])\n",
    "        else:\n",
    "            print(f\"Skipping line with unexpected format: {line}\")\n",
    "\n",
    "    return {\n",
    "        'tokens': tokens,\n",
    "        'ner_tags': ner_tags\n",
    "    }\n",
    "    \n",
    "data_files = {\n",
    "    'train': 'data/train.txt',\n",
    "    'validation': 'data/val.txt',\n",
    "    'test': 'data/test.txt'\n",
    "}\n",
    "\n",
    "dataset = load_dataset('text', data_files=data_files)\n",
    "processed_datasets = dataset.map(process_conll_data)\n"
   ]
  },
  {
   "cell_type": "markdown",
   "id": "f089fbfc-c092-469d-bad8-e14b21ac27bb",
   "metadata": {},
   "source": [
    "## 2. Load the tokenizer and model\n"
   ]
  },
  {
   "cell_type": "code",
   "execution_count": 3,
   "id": "02fd56ae-81af-4eeb-9236-f157d37222c1",
   "metadata": {
    "tags": []
   },
   "outputs": [],
   "source": [
    "unique_ner_tags = set()\n",
    "for entry in processed_datasets[\"train\"][\"ner_tags\"]:\n",
    "    unique_ner_tags.update(entry)\n",
    "\n",
    "num_labels = len(unique_ner_tags)"
   ]
  },
  {
   "cell_type": "code",
   "execution_count": 22,
   "id": "f240b255-e681-44f0-938a-000c4883a8cc",
   "metadata": {},
   "outputs": [
    {
     "name": "stdout",
     "output_type": "stream",
     "text": [
      "7\n"
     ]
    }
   ],
   "source": [
    "print(num_labels)\n",
    "seqeval = evaluate.load(\"seqeval\")\n"
   ]
  },
  {
   "cell_type": "code",
   "execution_count": 23,
   "id": "7c3795be-392b-44fc-89ab-6c65077d1744",
   "metadata": {},
   "outputs": [],
   "source": [
    "lab2id = {\"O\": 0,\n",
    "          \"B-ap_name1\": 1,\n",
    "          \"I-ap_name1\": 2,\n",
    "          \"B-vz1\": 3,\n",
    "          \"I-vz1\": 4,\n",
    "          \"B-coordx1\": 5,\n",
    "          \"I-coordx1\": 6,\n",
    "          \"B-coordy1\": 7,\n",
    "          \"I-coordy1\": 8,\n",
    "          \"B-Type\": 9,\n",
    "          \"I-Type\": 10,\n",
    "         }"
   ]
  },
  {
   "cell_type": "code",
   "execution_count": 4,
   "id": "2c5d1969-addd-405f-bbce-5955139f89d2",
   "metadata": {},
   "outputs": [
    {
     "data": {
      "application/vnd.jupyter.widget-view+json": {
       "model_id": "42032d108f424b10b896f67d394170ed",
       "version_major": 2,
       "version_minor": 0
      },
      "text/plain": [
       "Downloading builder script:   0%|          | 0.00/2.83k [00:00<?, ?B/s]"
      ]
     },
     "metadata": {},
     "output_type": "display_data"
    },
    {
     "data": {
      "application/vnd.jupyter.widget-view+json": {
       "model_id": "d1dd6a7428324d2b96fd4ad247a5ca55",
       "version_major": 2,
       "version_minor": 0
      },
      "text/plain": [
       "Downloading readme:   0%|          | 0.00/2.27k [00:00<?, ?B/s]"
      ]
     },
     "metadata": {},
     "output_type": "display_data"
    },
    {
     "data": {
      "application/vnd.jupyter.widget-view+json": {
       "model_id": "c9874d01fa8e48d9916749287c532703",
       "version_major": 2,
       "version_minor": 0
      },
      "text/plain": [
       "Downloading data files:   0%|          | 0/3 [00:00<?, ?it/s]"
      ]
     },
     "metadata": {},
     "output_type": "display_data"
    },
    {
     "data": {
      "application/vnd.jupyter.widget-view+json": {
       "model_id": "79d761d3a3544151a8afae61238fecb5",
       "version_major": 2,
       "version_minor": 0
      },
      "text/plain": [
       "Downloading data:   0%|          | 0.00/1.32M [00:00<?, ?B/s]"
      ]
     },
     "metadata": {},
     "output_type": "display_data"
    },
    {
     "data": {
      "application/vnd.jupyter.widget-view+json": {
       "model_id": "d272cfdc8bef4eb8834e6d0fbc3dc40d",
       "version_major": 2,
       "version_minor": 0
      },
      "text/plain": [
       "Downloading data:   0%|          | 0.00/5.78M [00:00<?, ?B/s]"
      ]
     },
     "metadata": {},
     "output_type": "display_data"
    },
    {
     "data": {
      "application/vnd.jupyter.widget-view+json": {
       "model_id": "aa7d6a8daf9c4e4cac4875dcc3911dbe",
       "version_major": 2,
       "version_minor": 0
      },
      "text/plain": [
       "Downloading data:   0%|          | 0.00/660k [00:00<?, ?B/s]"
      ]
     },
     "metadata": {},
     "output_type": "display_data"
    },
    {
     "data": {
      "application/vnd.jupyter.widget-view+json": {
       "model_id": "872274cde0e649c5aa0a3d7c06144002",
       "version_major": 2,
       "version_minor": 0
      },
      "text/plain": [
       "Extracting data files:   0%|          | 0/3 [00:00<?, ?it/s]"
      ]
     },
     "metadata": {},
     "output_type": "display_data"
    },
    {
     "data": {
      "application/vnd.jupyter.widget-view+json": {
       "model_id": "a9ff671b684948f191f34b2a9269b171",
       "version_major": 2,
       "version_minor": 0
      },
      "text/plain": [
       "Generating train split: 0 examples [00:00, ? examples/s]"
      ]
     },
     "metadata": {},
     "output_type": "display_data"
    },
    {
     "data": {
      "application/vnd.jupyter.widget-view+json": {
       "model_id": "c363d05848a84aa2b95e52e52b346def",
       "version_major": 2,
       "version_minor": 0
      },
      "text/plain": [
       "Generating validation split: 0 examples [00:00, ? examples/s]"
      ]
     },
     "metadata": {},
     "output_type": "display_data"
    },
    {
     "data": {
      "application/vnd.jupyter.widget-view+json": {
       "model_id": "b9184e954b4e46938958358d0236f4a4",
       "version_major": 2,
       "version_minor": 0
      },
      "text/plain": [
       "Generating test split: 0 examples [00:00, ? examples/s]"
      ]
     },
     "metadata": {},
     "output_type": "display_data"
    }
   ],
   "source": [
    "bionlp = load_dataset(\"tner/bionlp2004\")\n"
   ]
  },
  {
   "cell_type": "code",
   "execution_count": 21,
   "id": "f6628505-827e-4777-9b74-e1d956896554",
   "metadata": {},
   "outputs": [
    {
     "name": "stdout",
     "output_type": "stream",
     "text": [
      "{'text': '', 'tokens': [], 'ner_tags': []}\n",
      "{'text': 'SN B-ap_name1', 'tokens': ['SN'], 'ner_tags': ['B-ap_name1']}\n",
      "{'text': '2019fcn I-ap_name1', 'tokens': ['2019fcn'], 'ner_tags': ['I-ap_name1']}\n",
      "{'text': 'SN B-ap_name1', 'tokens': ['SN'], 'ner_tags': ['B-ap_name1']}\n",
      "{'text': '2019ejj I-ap_name1', 'tokens': ['2019ejj'], 'ner_tags': ['I-ap_name1']}\n",
      "{'text': 'SN B-ap_name1', 'tokens': ['SN'], 'ner_tags': ['B-ap_name1']}\n",
      "{'text': '2019fcn I-ap_name1', 'tokens': ['2019fcn'], 'ner_tags': ['I-ap_name1']}\n",
      "{'text': 'SN B-ap_name1', 'tokens': ['SN'], 'ner_tags': ['B-ap_name1']}\n",
      "{'text': '2019ejj.The I-ap_name1', 'tokens': ['2019ejj.The'], 'ner_tags': ['I-ap_name1']}\n",
      "{'text': '7.SN B-ap_name1', 'tokens': ['7.SN'], 'ner_tags': ['B-ap_name1']}\n",
      "{'text': '2019ejj I-ap_name1', 'tokens': ['2019ejj'], 'ner_tags': ['I-ap_name1']}\n",
      "{'text': 'SN B-ap_name1', 'tokens': ['SN'], 'ner_tags': ['B-ap_name1']}\n",
      "{'text': '2019fcn I-ap_name1', 'tokens': ['2019fcn'], 'ner_tags': ['I-ap_name1']}\n",
      "{'text': 'SN B-ap_name1', 'tokens': ['SN'], 'ner_tags': ['B-ap_name1']}\n",
      "{'text': '2019fcn I-ap_name1', 'tokens': ['2019fcn'], 'ner_tags': ['I-ap_name1']}\n",
      "{'text': 'SN B-ap_name1', 'tokens': ['SN'], 'ner_tags': ['B-ap_name1']}\n",
      "{'text': '2019ejj, I-ap_name1', 'tokens': ['2019ejj,'], 'ner_tags': ['I-ap_name1']}\n",
      "{'text': 'SN B-ap_name1', 'tokens': ['SN'], 'ner_tags': ['B-ap_name1']}\n",
      "{'text': '2019fcn I-ap_name1', 'tokens': ['2019fcn'], 'ner_tags': ['I-ap_name1']}\n",
      "{'text': 'SN B-ap_name1', 'tokens': ['SN'], 'ner_tags': ['B-ap_name1']}\n",
      "{'text': '2019fcn I-ap_name1', 'tokens': ['2019fcn'], 'ner_tags': ['I-ap_name1']}\n",
      "{'text': 'SN B-ap_name1', 'tokens': ['SN'], 'ner_tags': ['B-ap_name1']}\n",
      "{'text': '2019ejj I-ap_name1', 'tokens': ['2019ejj'], 'ner_tags': ['I-ap_name1']}\n",
      "{'text': 'SN B-ap_name1', 'tokens': ['SN'], 'ner_tags': ['B-ap_name1']}\n",
      "{'text': '2019fcn I-ap_name1', 'tokens': ['2019fcn'], 'ner_tags': ['I-ap_name1']}\n",
      "{'text': 'SN B-ap_name1', 'tokens': ['SN'], 'ner_tags': ['B-ap_name1']}\n",
      "{'text': '2019fcn I-ap_name1', 'tokens': ['2019fcn'], 'ner_tags': ['I-ap_name1']}\n",
      "{'text': 'SN B-ap_name1', 'tokens': ['SN'], 'ner_tags': ['B-ap_name1']}\n",
      "{'text': '2019ejj I-ap_name1', 'tokens': ['2019ejj'], 'ner_tags': ['I-ap_name1']}\n",
      "{'text': '(SN B-ap_name1', 'tokens': ['(SN'], 'ner_tags': ['B-ap_name1']}\n",
      "{'text': '2019ejj) I-ap_name1', 'tokens': ['2019ejj)'], 'ner_tags': ['I-ap_name1']}\n",
      "{'text': 'SN B-ap_name1', 'tokens': ['SN'], 'ner_tags': ['B-ap_name1']}\n",
      "{'text': '2019fcn I-ap_name1', 'tokens': ['2019fcn'], 'ner_tags': ['I-ap_name1']}\n",
      "{'text': 'SN B-ap_name1', 'tokens': ['SN'], 'ner_tags': ['B-ap_name1']}\n",
      "{'text': '2019ejj I-ap_name1', 'tokens': ['2019ejj'], 'ner_tags': ['I-ap_name1']}\n",
      "{'text': 'SN B-ap_name1', 'tokens': ['SN'], 'ner_tags': ['B-ap_name1']}\n",
      "{'text': '2019fcn I-ap_name1', 'tokens': ['2019fcn'], 'ner_tags': ['I-ap_name1']}\n",
      "{'text': 'SN B-ap_name1', 'tokens': ['SN'], 'ner_tags': ['B-ap_name1']}\n",
      "{'text': '2019fcn. I-ap_name1', 'tokens': ['2019fcn.'], 'ner_tags': ['I-ap_name1']}\n",
      "{'text': 'SN B-ap_name1', 'tokens': ['SN'], 'ner_tags': ['B-ap_name1']}\n",
      "{'text': '2019fcn I-ap_name1', 'tokens': ['2019fcn'], 'ner_tags': ['I-ap_name1']}\n",
      "{'text': 'SN B-ap_name1', 'tokens': ['SN'], 'ner_tags': ['B-ap_name1']}\n",
      "{'text': '2019fcn I-ap_name1', 'tokens': ['2019fcn'], 'ner_tags': ['I-ap_name1']}\n",
      "{'text': 'SN B-ap_name1', 'tokens': ['SN'], 'ner_tags': ['B-ap_name1']}\n",
      "{'text': '2019ejj. I-ap_name1', 'tokens': ['2019ejj.'], 'ner_tags': ['I-ap_name1']}\n",
      "{'text': 'SN B-ap_name1', 'tokens': ['SN'], 'ner_tags': ['B-ap_name1']}\n",
      "{'text': '2019fcn I-ap_name1', 'tokens': ['2019fcn'], 'ner_tags': ['I-ap_name1']}\n",
      "{'text': 'SN B-ap_name1', 'tokens': ['SN'], 'ner_tags': ['B-ap_name1']}\n",
      "{'text': '2019ejj I-ap_name1', 'tokens': ['2019ejj'], 'ner_tags': ['I-ap_name1']}\n",
      "{'text': 'SN B-ap_name1', 'tokens': ['SN'], 'ner_tags': ['B-ap_name1']}\n",
      "{'text': '2019fcn I-ap_name1', 'tokens': ['2019fcn'], 'ner_tags': ['I-ap_name1']}\n",
      "{'text': 'SN B-ap_name1', 'tokens': ['SN'], 'ner_tags': ['B-ap_name1']}\n",
      "{'text': '2019ejj I-ap_name1', 'tokens': ['2019ejj'], 'ner_tags': ['I-ap_name1']}\n",
      "{'text': 'SN B-ap_name1', 'tokens': ['SN'], 'ner_tags': ['B-ap_name1']}\n",
      "{'text': '2019fcn, I-ap_name1', 'tokens': ['2019fcn,'], 'ner_tags': ['I-ap_name1']}\n",
      "{'text': 'SN B-ap_name1', 'tokens': ['SN'], 'ner_tags': ['B-ap_name1']}\n",
      "{'text': '2019ejj, I-ap_name1', 'tokens': ['2019ejj,'], 'ner_tags': ['I-ap_name1']}\n",
      "{'text': 'SN B-ap_name1', 'tokens': ['SN'], 'ner_tags': ['B-ap_name1']}\n",
      "{'text': '2019fcn I-ap_name1', 'tokens': ['2019fcn'], 'ner_tags': ['I-ap_name1']}\n",
      "{'text': 'SN B-ap_name1', 'tokens': ['SN'], 'ner_tags': ['B-ap_name1']}\n",
      "{'text': '2019ejj, I-ap_name1', 'tokens': ['2019ejj,'], 'ner_tags': ['I-ap_name1']}\n",
      "{'text': 'SN B-ap_name1', 'tokens': ['SN'], 'ner_tags': ['B-ap_name1']}\n",
      "{'text': '2019fcn. I-ap_name1', 'tokens': ['2019fcn.'], 'ner_tags': ['I-ap_name1']}\n",
      "{'text': 'SN B-ap_name1', 'tokens': ['SN'], 'ner_tags': ['B-ap_name1']}\n",
      "{'text': '2019fcn I-ap_name1', 'tokens': ['2019fcn'], 'ner_tags': ['I-ap_name1']}\n",
      "{'text': 'SN B-ap_name1', 'tokens': ['SN'], 'ner_tags': ['B-ap_name1']}\n",
      "{'text': '2019ejj. I-ap_name1', 'tokens': ['2019ejj.'], 'ner_tags': ['I-ap_name1']}\n",
      "{'text': 'SN B-ap_name1', 'tokens': ['SN'], 'ner_tags': ['B-ap_name1']}\n",
      "{'text': '2019fcn I-ap_name1', 'tokens': ['2019fcn'], 'ner_tags': ['I-ap_name1']}\n",
      "{'text': 'SN B-ap_name1', 'tokens': ['SN'], 'ner_tags': ['B-ap_name1']}\n",
      "{'text': '2019ejj. I-ap_name1', 'tokens': ['2019ejj.'], 'ner_tags': ['I-ap_name1']}\n",
      "{'text': 'SN B-ap_name1', 'tokens': ['SN'], 'ner_tags': ['B-ap_name1']}\n",
      "{'text': '2019fcn I-ap_name1', 'tokens': ['2019fcn'], 'ner_tags': ['I-ap_name1']}\n",
      "{'text': 'SN B-ap_name1', 'tokens': ['SN'], 'ner_tags': ['B-ap_name1']}\n",
      "{'text': '2019ejj, I-ap_name1', 'tokens': ['2019ejj,'], 'ner_tags': ['I-ap_name1']}\n",
      "{'text': 'SN B-ap_name1', 'tokens': ['SN'], 'ner_tags': ['B-ap_name1']}\n",
      "{'text': '2019fcn I-ap_name1', 'tokens': ['2019fcn'], 'ner_tags': ['I-ap_name1']}\n",
      "{'text': 'SN B-ap_name1', 'tokens': ['SN'], 'ner_tags': ['B-ap_name1']}\n",
      "{'text': '2019ejj. I-ap_name1', 'tokens': ['2019ejj.'], 'ner_tags': ['I-ap_name1']}\n",
      "{'text': '(SN B-ap_name1', 'tokens': ['(SN'], 'ner_tags': ['B-ap_name1']}\n",
      "{'text': '2019fcn) I-ap_name1', 'tokens': ['2019fcn)'], 'ner_tags': ['I-ap_name1']}\n",
      "{'text': '(SN B-ap_name1', 'tokens': ['(SN'], 'ner_tags': ['B-ap_name1']}\n",
      "{'text': '2019ejj), I-ap_name1', 'tokens': ['2019ejj),'], 'ner_tags': ['I-ap_name1']}\n",
      "{'text': 'SN B-ap_name1', 'tokens': ['SN'], 'ner_tags': ['B-ap_name1']}\n",
      "{'text': '2019ejj, I-ap_name1', 'tokens': ['2019ejj,'], 'ner_tags': ['I-ap_name1']}\n",
      "{'text': 'KSN B-ap_name1', 'tokens': ['KSN'], 'ner_tags': ['B-ap_name1']}\n",
      "{'text': '2011a, I-ap_name1', 'tokens': ['2011a,'], 'ner_tags': ['I-ap_name1']}\n",
      "{'text': 'ASASSN-19jy, B-ap_name1', 'tokens': ['ASASSN-19jy,'], 'ner_tags': ['B-ap_name1']}\n",
      "{'text': 'ZTF19abqhobb B-ap_name1', 'tokens': ['ZTF19abqhobb'], 'ner_tags': ['B-ap_name1']}\n",
      "{'text': 'SN B-ap_name1', 'tokens': ['SN'], 'ner_tags': ['B-ap_name1']}\n",
      "{'text': '2019fcn, I-ap_name1', 'tokens': ['2019fcn,'], 'ner_tags': ['I-ap_name1']}\n",
      "{'text': 'SN B-ap_name1', 'tokens': ['SN'], 'ner_tags': ['B-ap_name1']}\n",
      "{'text': '2019fcn, I-ap_name1', 'tokens': ['2019fcn,'], 'ner_tags': ['I-ap_name1']}\n",
      "{'text': 'SN B-ap_name1', 'tokens': ['SN'], 'ner_tags': ['B-ap_name1']}\n",
      "{'text': '2019ejj I-ap_name1', 'tokens': ['2019ejj'], 'ner_tags': ['I-ap_name1']}\n",
      "{'text': 'SN B-ap_name1', 'tokens': ['SN'], 'ner_tags': ['B-ap_name1']}\n",
      "{'text': '2019fcn I-ap_name1', 'tokens': ['2019fcn'], 'ner_tags': ['I-ap_name1']}\n",
      "{'text': 'SN B-ap_name1', 'tokens': ['SN'], 'ner_tags': ['B-ap_name1']}\n",
      "{'text': '2019ejj.Finally, I-ap_name1', 'tokens': ['2019ejj.Finally,'], 'ner_tags': ['I-ap_name1']}\n",
      "{'text': 'SN B-ap_name1', 'tokens': ['SN'], 'ner_tags': ['B-ap_name1']}\n",
      "{'text': '2019fcn I-ap_name1', 'tokens': ['2019fcn'], 'ner_tags': ['I-ap_name1']}\n",
      "{'text': 'SN B-ap_name1', 'tokens': ['SN'], 'ner_tags': ['B-ap_name1']}\n",
      "{'text': '2019ejj.To I-ap_name1', 'tokens': ['2019ejj.To'], 'ner_tags': ['I-ap_name1']}\n",
      "{'text': 'SN B-ap_name1', 'tokens': ['SN'], 'ner_tags': ['B-ap_name1']}\n",
      "{'text': '2019fcn, I-ap_name1', 'tokens': ['2019fcn,'], 'ner_tags': ['I-ap_name1']}\n",
      "{'text': 'SN B-ap_name1', 'tokens': ['SN'], 'ner_tags': ['B-ap_name1']}\n",
      "{'text': '2019ejj).The I-ap_name1', 'tokens': ['2019ejj).The'], 'ner_tags': ['I-ap_name1']}\n",
      "{'text': 'SN B-ap_name1', 'tokens': ['SN'], 'ner_tags': ['B-ap_name1']}\n",
      "{'text': '2019fcn I-ap_name1', 'tokens': ['2019fcn'], 'ner_tags': ['I-ap_name1']}\n",
      "{'text': 'SN B-ap_name1', 'tokens': ['SN'], 'ner_tags': ['B-ap_name1']}\n",
      "{'text': '2019ejj I-ap_name1', 'tokens': ['2019ejj'], 'ner_tags': ['I-ap_name1']}\n",
      "{'text': 'SN B-ap_name1', 'tokens': ['SN'], 'ner_tags': ['B-ap_name1']}\n",
      "{'text': '2019ejj). I-ap_name1', 'tokens': ['2019ejj).'], 'ner_tags': ['I-ap_name1']}\n",
      "{'text': 'SN B-ap_name1', 'tokens': ['SN'], 'ner_tags': ['B-ap_name1']}\n",
      "{'text': '2019fcn, I-ap_name1', 'tokens': ['2019fcn,'], 'ner_tags': ['I-ap_name1']}\n",
      "{'text': 'SN B-ap_name1', 'tokens': ['SN'], 'ner_tags': ['B-ap_name1']}\n",
      "{'text': '2019ejj I-ap_name1', 'tokens': ['2019ejj'], 'ner_tags': ['I-ap_name1']}\n",
      "{'text': 'SN B-ap_name1', 'tokens': ['SN'], 'ner_tags': ['B-ap_name1']}\n",
      "{'text': '2019fcn, I-ap_name1', 'tokens': ['2019fcn,'], 'ner_tags': ['I-ap_name1']}\n",
      "{'text': 'SN B-ap_name1', 'tokens': ['SN'], 'ner_tags': ['B-ap_name1']}\n",
      "{'text': '2019ejj, I-ap_name1', 'tokens': ['2019ejj,'], 'ner_tags': ['I-ap_name1']}\n",
      "{'text': 'SN B-ap_name1', 'tokens': ['SN'], 'ner_tags': ['B-ap_name1']}\n",
      "{'text': '2019fcn, I-ap_name1', 'tokens': ['2019fcn,'], 'ner_tags': ['I-ap_name1']}\n",
      "{'text': 'SN B-ap_name1', 'tokens': ['SN'], 'ner_tags': ['B-ap_name1']}\n",
      "{'text': '2019fcn I-ap_name1', 'tokens': ['2019fcn'], 'ner_tags': ['I-ap_name1']}\n",
      "{'text': 'SN B-ap_name1', 'tokens': ['SN'], 'ner_tags': ['B-ap_name1']}\n",
      "{'text': '2019ejj I-ap_name1', 'tokens': ['2019ejj'], 'ner_tags': ['I-ap_name1']}\n",
      "{'text': 'SN B-ap_name1', 'tokens': ['SN'], 'ner_tags': ['B-ap_name1']}\n",
      "{'text': '2019fcn, I-ap_name1', 'tokens': ['2019fcn,'], 'ner_tags': ['I-ap_name1']}\n",
      "{'text': 'SN B-ap_name1', 'tokens': ['SN'], 'ner_tags': ['B-ap_name1']}\n",
      "{'text': '2019fcn I-ap_name1', 'tokens': ['2019fcn'], 'ner_tags': ['I-ap_name1']}\n",
      "{'text': 'SN B-ap_name1', 'tokens': ['SN'], 'ner_tags': ['B-ap_name1']}\n",
      "{'text': '2019ejj.Thus, I-ap_name1', 'tokens': ['2019ejj.Thus,'], 'ner_tags': ['I-ap_name1']}\n",
      "{'text': 'SN B-ap_name1', 'tokens': ['SN'], 'ner_tags': ['B-ap_name1']}\n",
      "{'text': '2019fcn), I-ap_name1', 'tokens': ['2019fcn),'], 'ner_tags': ['I-ap_name1']}\n",
      "{'text': 'KSN B-ap_name1', 'tokens': ['KSN'], 'ner_tags': ['B-ap_name1']}\n",
      "{'text': '2011d, I-ap_name1', 'tokens': ['2011d,'], 'ner_tags': ['I-ap_name1']}\n",
      "{'text': 'KSN B-ap_name1', 'tokens': ['KSN'], 'ner_tags': ['B-ap_name1']}\n",
      "{'text': '2011d I-ap_name1', 'tokens': ['2011d'], 'ner_tags': ['I-ap_name1']}\n",
      "{'text': 'KSN B-ap_name1', 'tokens': ['KSN'], 'ner_tags': ['B-ap_name1']}\n",
      "{'text': '2011d I-ap_name1', 'tokens': ['2011d'], 'ner_tags': ['I-ap_name1']}\n",
      "{'text': 'SN2019fcn, B-ap_name1', 'tokens': ['SN2019fcn,'], 'ner_tags': ['B-ap_name1']}\n",
      "{'text': 'SN2019ejj, B-ap_name1', 'tokens': ['SN2019ejj,'], 'ner_tags': ['B-ap_name1']}\n",
      "{'text': 'SN B-ap_name1', 'tokens': ['SN'], 'ner_tags': ['B-ap_name1']}\n",
      "{'text': '2019fcn I-ap_name1', 'tokens': ['2019fcn'], 'ner_tags': ['I-ap_name1']}\n",
      "{'text': 'SN B-ap_name1', 'tokens': ['SN'], 'ner_tags': ['B-ap_name1']}\n",
      "{'text': '2019ejj. I-ap_name1', 'tokens': ['2019ejj.'], 'ner_tags': ['I-ap_name1']}\n",
      "{'text': 'SN B-ap_name1', 'tokens': ['SN'], 'ner_tags': ['B-ap_name1']}\n",
      "{'text': '2019ejj, I-ap_name1', 'tokens': ['2019ejj,'], 'ner_tags': ['I-ap_name1']}\n",
      "{'text': 'SN B-ap_name1', 'tokens': ['SN'], 'ner_tags': ['B-ap_name1']}\n",
      "{'text': '2019fcn I-ap_name1', 'tokens': ['2019fcn'], 'ner_tags': ['I-ap_name1']}\n",
      "{'text': 'SN B-ap_name1', 'tokens': ['SN'], 'ner_tags': ['B-ap_name1']}\n",
      "{'text': '2019ejj. I-ap_name1', 'tokens': ['2019ejj.'], 'ner_tags': ['I-ap_name1']}\n",
      "{'text': 'SN B-ap_name1', 'tokens': ['SN'], 'ner_tags': ['B-ap_name1']}\n",
      "{'text': '2019fcn I-ap_name1', 'tokens': ['2019fcn'], 'ner_tags': ['I-ap_name1']}\n",
      "{'text': 'SN B-ap_name1', 'tokens': ['SN'], 'ner_tags': ['B-ap_name1']}\n",
      "{'text': '2019ejj. I-ap_name1', 'tokens': ['2019ejj.'], 'ner_tags': ['I-ap_name1']}\n",
      "{'text': 'SN B-ap_name1', 'tokens': ['SN'], 'ner_tags': ['B-ap_name1']}\n",
      "{'text': '2019ejj, I-ap_name1', 'tokens': ['2019ejj,'], 'ner_tags': ['I-ap_name1']}\n",
      "{'text': '', 'tokens': [], 'ner_tags': []}\n",
      "{'text': 'SN B-ap_name1', 'tokens': ['SN'], 'ner_tags': ['B-ap_name1']}\n",
      "{'text': '2014ad I-ap_name1', 'tokens': ['2014ad'], 'ner_tags': ['I-ap_name1']}\n",
      "{'text': 'SN B-ap_name1', 'tokens': ['SN'], 'ner_tags': ['B-ap_name1']}\n",
      "{'text': '2014ad I-ap_name1', 'tokens': ['2014ad'], 'ner_tags': ['I-ap_name1']}\n",
      "{'text': 'PTF B-ap_name1', 'tokens': ['PTF'], 'ner_tags': ['B-ap_name1']}\n",
      "{'text': '12gzk I-ap_name1', 'tokens': ['12gzk'], 'ner_tags': ['I-ap_name1']}\n",
      "{'text': 'SN B-ap_name1', 'tokens': ['SN'], 'ner_tags': ['B-ap_name1']}\n",
      "{'text': '1994I. I-ap_name1', 'tokens': ['1994I.'], 'ner_tags': ['I-ap_name1']}\n",
      "{'text': 'SN B-ap_name1', 'tokens': ['SN'], 'ner_tags': ['B-ap_name1']}\n",
      "{'text': '2014ad. I-ap_name1', 'tokens': ['2014ad.'], 'ner_tags': ['I-ap_name1']}\n",
      "{'text': 'SN B-ap_name1', 'tokens': ['SN'], 'ner_tags': ['B-ap_name1']}\n",
      "{'text': '2014ad I-ap_name1', 'tokens': ['2014ad'], 'ner_tags': ['I-ap_name1']}\n",
      "{'text': 'PGC B-ap_name1', 'tokens': ['PGC'], 'ner_tags': ['B-ap_name1']}\n",
      "{'text': '37625 I-ap_name1', 'tokens': ['37625'], 'ner_tags': ['I-ap_name1']}\n",
      "{'text': '0.005723 B-vz1', 'tokens': ['0.005723'], 'ner_tags': ['B-vz1']}\n",
      "{'text': 'SN B-ap_name1', 'tokens': ['SN'], 'ner_tags': ['B-ap_name1']}\n",
      "{'text': \"2014ad\\\\'s I-ap_name1\", 'tokens': [\"2014ad\\\\'s\"], 'ner_tags': ['I-ap_name1']}\n",
      "{'text': 'SN B-ap_name1', 'tokens': ['SN'], 'ner_tags': ['B-ap_name1']}\n",
      "{'text': '2014ad, I-ap_name1', 'tokens': ['2014ad,'], 'ner_tags': ['I-ap_name1']}\n",
      "{'text': 'SN B-ap_name1', 'tokens': ['SN'], 'ner_tags': ['B-ap_name1']}\n",
      "{'text': '2014ad I-ap_name1', 'tokens': ['2014ad'], 'ner_tags': ['I-ap_name1']}\n",
      "{'text': 'SN B-ap_name1', 'tokens': ['SN'], 'ner_tags': ['B-ap_name1']}\n",
      "{'text': '2014ad I-ap_name1', 'tokens': ['2014ad'], 'ner_tags': ['I-ap_name1']}\n",
      "{'text': 'SN B-ap_name1', 'tokens': ['SN'], 'ner_tags': ['B-ap_name1']}\n",
      "{'text': '2014ad I-ap_name1', 'tokens': ['2014ad'], 'ner_tags': ['I-ap_name1']}\n",
      "{'text': 'SN B-ap_name1', 'tokens': ['SN'], 'ner_tags': ['B-ap_name1']}\n",
      "{'text': '2014ad I-ap_name1', 'tokens': ['2014ad'], 'ner_tags': ['I-ap_name1']}\n",
      "{'text': 'SN B-ap_name1', 'tokens': ['SN'], 'ner_tags': ['B-ap_name1']}\n",
      "{'text': '2014ad I-ap_name1', 'tokens': ['2014ad'], 'ner_tags': ['I-ap_name1']}\n",
      "{'text': 'SN B-ap_name1', 'tokens': ['SN'], 'ner_tags': ['B-ap_name1']}\n",
      "{'text': '2014ad I-ap_name1', 'tokens': ['2014ad'], 'ner_tags': ['I-ap_name1']}\n",
      "{'text': 'PGC B-ap_name1', 'tokens': ['PGC'], 'ner_tags': ['B-ap_name1']}\n",
      "{'text': '37625 I-ap_name1', 'tokens': ['37625'], 'ner_tags': ['I-ap_name1']}\n",
      "{'text': 'SN B-ap_name1', 'tokens': ['SN'], 'ner_tags': ['B-ap_name1']}\n",
      "{'text': '2014ad I-ap_name1', 'tokens': ['2014ad'], 'ner_tags': ['I-ap_name1']}\n",
      "{'text': 'SN B-ap_name1', 'tokens': ['SN'], 'ner_tags': ['B-ap_name1']}\n",
      "{'text': '2014ad. I-ap_name1', 'tokens': ['2014ad.'], 'ner_tags': ['I-ap_name1']}\n",
      "{'text': 'SN B-ap_name1', 'tokens': ['SN'], 'ner_tags': ['B-ap_name1']}\n",
      "{'text': '2014ad I-ap_name1', 'tokens': ['2014ad'], 'ner_tags': ['I-ap_name1']}\n",
      "{'text': 'SN B-ap_name1', 'tokens': ['SN'], 'ner_tags': ['B-ap_name1']}\n",
      "{'text': '2014ad I-ap_name1', 'tokens': ['2014ad'], 'ner_tags': ['I-ap_name1']}\n",
      "{'text': 'SN B-ap_name1', 'tokens': ['SN'], 'ner_tags': ['B-ap_name1']}\n",
      "{'text': '2014ad I-ap_name1', 'tokens': ['2014ad'], 'ner_tags': ['I-ap_name1']}\n",
      "{'text': 'SN B-ap_name1', 'tokens': ['SN'], 'ner_tags': ['B-ap_name1']}\n",
      "{'text': '2014ad I-ap_name1', 'tokens': ['2014ad'], 'ner_tags': ['I-ap_name1']}\n",
      "{'text': 'SN B-ap_name1', 'tokens': ['SN'], 'ner_tags': ['B-ap_name1']}\n",
      "{'text': '2014ad I-ap_name1', 'tokens': ['2014ad'], 'ner_tags': ['I-ap_name1']}\n",
      "{'text': 'SN B-ap_name1', 'tokens': ['SN'], 'ner_tags': ['B-ap_name1']}\n",
      "{'text': '2014ad I-ap_name1', 'tokens': ['2014ad'], 'ner_tags': ['I-ap_name1']}\n",
      "{'text': 'SN B-ap_name1', 'tokens': ['SN'], 'ner_tags': ['B-ap_name1']}\n",
      "{'text': '2014ad I-ap_name1', 'tokens': ['2014ad'], 'ner_tags': ['I-ap_name1']}\n",
      "{'text': 'SN B-ap_name1', 'tokens': ['SN'], 'ner_tags': ['B-ap_name1']}\n",
      "{'text': '2014ad I-ap_name1', 'tokens': ['2014ad'], 'ner_tags': ['I-ap_name1']}\n",
      "{'text': '30%.SN B-ap_name1', 'tokens': ['30%.SN'], 'ner_tags': ['B-ap_name1']}\n",
      "{'text': '2014ad I-ap_name1', 'tokens': ['2014ad'], 'ner_tags': ['I-ap_name1']}\n",
      "{'text': 'SN B-ap_name1', 'tokens': ['SN'], 'ner_tags': ['B-ap_name1']}\n",
      "{'text': \"2014ad\\\\'s I-ap_name1\", 'tokens': [\"2014ad\\\\'s\"], 'ner_tags': ['I-ap_name1']}\n",
      "{'text': 'SN B-ap_name1', 'tokens': ['SN'], 'ner_tags': ['B-ap_name1']}\n",
      "{'text': \"2014ad\\\\'s I-ap_name1\", 'tokens': [\"2014ad\\\\'s\"], 'ner_tags': ['I-ap_name1']}\n",
      "{'text': 'SN B-ap_name1', 'tokens': ['SN'], 'ner_tags': ['B-ap_name1']}\n",
      "{'text': \"2014ad\\\\'s I-ap_name1\", 'tokens': [\"2014ad\\\\'s\"], 'ner_tags': ['I-ap_name1']}\n",
      "{'text': 'SN B-ap_name1', 'tokens': ['SN'], 'ner_tags': ['B-ap_name1']}\n",
      "{'text': '2014ad, I-ap_name1', 'tokens': ['2014ad,'], 'ner_tags': ['I-ap_name1']}\n",
      "{'text': 'SN B-ap_name1', 'tokens': ['SN'], 'ner_tags': ['B-ap_name1']}\n",
      "{'text': '1998bw I-ap_name1', 'tokens': ['1998bw'], 'ner_tags': ['I-ap_name1']}\n",
      "{'text': 'SN B-ap_name1', 'tokens': ['SN'], 'ner_tags': ['B-ap_name1']}\n",
      "{'text': '2014ad I-ap_name1', 'tokens': ['2014ad'], 'ner_tags': ['I-ap_name1']}\n",
      "{'text': 'SN B-ap_name1', 'tokens': ['SN'], 'ner_tags': ['B-ap_name1']}\n",
      "{'text': '2020bvc; I-ap_name1', 'tokens': ['2020bvc;'], 'ner_tags': ['I-ap_name1']}\n"
     ]
    }
   ],
   "source": [
    "#bionlp[\"train\"][2]\n",
    "for i in range(1000,15000):\n",
    "    if processed_datasets[\"train\"][i]['ner_tags']!=['O']:\n",
    "        print(processed_datasets[\"train\"][i])\n",
    "    "
   ]
  },
  {
   "cell_type": "code",
   "execution_count": 9,
   "id": "c6e6eaf2-03f8-4430-8515-9a59d61ad4f6",
   "metadata": {
    "tags": []
   },
   "outputs": [
    {
     "name": "stderr",
     "output_type": "stream",
     "text": [
      "Some weights of BertForTokenClassification were not initialized from the model checkpoint at dslim/bert-base-NER and are newly initialized because the shapes did not match:\n",
      "- classifier.bias: found shape torch.Size([9]) in the checkpoint and torch.Size([7]) in the model instantiated\n",
      "- classifier.weight: found shape torch.Size([9, 768]) in the checkpoint and torch.Size([7, 768]) in the model instantiated\n",
      "You should probably TRAIN this model on a down-stream task to be able to use it for predictions and inference.\n"
     ]
    }
   ],
   "source": [
    "tokenizer = AutoTokenizer.from_pretrained(\"dslim/bert-base-NER\")\n",
    "#model = AutoModelForTokenClassification.from_pretrained(\"dslim/bert-base-NER\", num_labels=num_labels)\n",
    "model = AutoModelForTokenClassification.from_pretrained(\"dslim/bert-base-NER\", num_labels=num_labels, ignore_mismatched_sizes=True)\n",
    "#### this ignore size mismatch might cause major issues ...\n",
    "\n",
    "\n",
    "# Define a data collator to handle token-level tasks (like NER)\n",
    "from transformers import DataCollatorForTokenClassification\n",
    "data_collator = DataCollatorForTokenClassification(tokenizer)\n"
   ]
  },
  {
   "cell_type": "markdown",
   "id": "26296055-aea6-4ec1-8d17-60f71cf46cca",
   "metadata": {},
   "source": [
    "## 3. Tokenize the dataset\n"
   ]
  },
  {
   "cell_type": "code",
   "execution_count": 10,
   "id": "cac9aa3e-9b5c-4975-938b-2cd1663a283b",
   "metadata": {
    "tags": []
   },
   "outputs": [
    {
     "name": "stderr",
     "output_type": "stream",
     "text": [
      "                                                                                                                                               \r"
     ]
    }
   ],
   "source": [
    "def tokenize_function(examples):\n",
    "    return tokenizer(examples[\"tokens\"], truncation=True, padding=\"max_length\", is_split_into_words=True)\n",
    "\n",
    "tokenized_datasets = processed_datasets.map(tokenize_function, batched=True, num_proc=4)\n"
   ]
  },
  {
   "cell_type": "markdown",
   "id": "d4450100-f7f4-4a18-91cc-0cda80f70c58",
   "metadata": {},
   "source": [
    "## 4. Train\n"
   ]
  },
  {
   "cell_type": "code",
   "execution_count": 13,
   "id": "28bb1b65-a1f5-4951-b11e-017635d2442c",
   "metadata": {
    "tags": []
   },
   "outputs": [
    {
     "data": {
      "text/html": [
       "Finishing last run (ID:nvb1htx4) before initializing another..."
      ],
      "text/plain": [
       "<IPython.core.display.HTML object>"
      ]
     },
     "metadata": {},
     "output_type": "display_data"
    },
    {
     "data": {
      "text/html": [
       "Waiting for W&B process to finish... <strong style=\"color:green\">(success).</strong>"
      ],
      "text/plain": [
       "<IPython.core.display.HTML object>"
      ]
     },
     "metadata": {},
     "output_type": "display_data"
    },
    {
     "data": {
      "text/html": [
       " View run <strong style=\"color:#cdcd00\">try1</strong> at: <a href='https://wandb.ai/shoubaneh/NEDAI/runs/nvb1htx4' target=\"_blank\">https://wandb.ai/shoubaneh/NEDAI/runs/nvb1htx4</a><br/>Synced 4 W&B file(s), 0 media file(s), 0 artifact file(s) and 0 other file(s)"
      ],
      "text/plain": [
       "<IPython.core.display.HTML object>"
      ]
     },
     "metadata": {},
     "output_type": "display_data"
    },
    {
     "data": {
      "text/html": [
       "Find logs at: <code>./wandb/run-20231023_172811-nvb1htx4/logs</code>"
      ],
      "text/plain": [
       "<IPython.core.display.HTML object>"
      ]
     },
     "metadata": {},
     "output_type": "display_data"
    },
    {
     "data": {
      "text/html": [
       "Successfully finished last run (ID:nvb1htx4). Initializing new run:<br/>"
      ],
      "text/plain": [
       "<IPython.core.display.HTML object>"
      ]
     },
     "metadata": {},
     "output_type": "display_data"
    },
    {
     "name": "stdout",
     "output_type": "stream",
     "text": [
      "huggingface/tokenizers: The current process just got forked, after parallelism has already been used. Disabling parallelism to avoid deadlocks...\n",
      "To disable this warning, you can either:\n",
      "\t- Avoid using `tokenizers` before the fork if possible\n",
      "\t- Explicitly set the environment variable TOKENIZERS_PARALLELISM=(true | false)\n"
     ]
    },
    {
     "data": {
      "text/html": [
       "wandb version 0.15.12 is available!  To upgrade, please run:\n",
       " $ pip install wandb --upgrade"
      ],
      "text/plain": [
       "<IPython.core.display.HTML object>"
      ]
     },
     "metadata": {},
     "output_type": "display_data"
    },
    {
     "data": {
      "text/html": [
       "Tracking run with wandb version 0.14.0"
      ],
      "text/plain": [
       "<IPython.core.display.HTML object>"
      ]
     },
     "metadata": {},
     "output_type": "display_data"
    },
    {
     "data": {
      "text/html": [
       "Run data is saved locally in <code>/home/shemmati/Work/Projects/NEDAI/wandb/run-20231023_172940-8cj6k52v</code>"
      ],
      "text/plain": [
       "<IPython.core.display.HTML object>"
      ]
     },
     "metadata": {},
     "output_type": "display_data"
    },
    {
     "data": {
      "text/html": [
       "Syncing run <strong><a href='https://wandb.ai/shoubaneh/NEDAI/runs/8cj6k52v' target=\"_blank\">try1</a></strong> to <a href='https://wandb.ai/shoubaneh/NEDAI' target=\"_blank\">Weights & Biases</a> (<a href='https://wandb.me/run' target=\"_blank\">docs</a>)<br/>"
      ],
      "text/plain": [
       "<IPython.core.display.HTML object>"
      ]
     },
     "metadata": {},
     "output_type": "display_data"
    },
    {
     "data": {
      "text/html": [
       " View project at <a href='https://wandb.ai/shoubaneh/NEDAI' target=\"_blank\">https://wandb.ai/shoubaneh/NEDAI</a>"
      ],
      "text/plain": [
       "<IPython.core.display.HTML object>"
      ]
     },
     "metadata": {},
     "output_type": "display_data"
    },
    {
     "data": {
      "text/html": [
       " View run at <a href='https://wandb.ai/shoubaneh/NEDAI/runs/8cj6k52v' target=\"_blank\">https://wandb.ai/shoubaneh/NEDAI/runs/8cj6k52v</a>"
      ],
      "text/plain": [
       "<IPython.core.display.HTML object>"
      ]
     },
     "metadata": {},
     "output_type": "display_data"
    },
    {
     "ename": "ImportError",
     "evalue": "Using the `Trainer` with `PyTorch` requires `accelerate>=0.20.1`: Please run `pip install transformers[torch]` or `pip install accelerate -U`",
     "output_type": "error",
     "traceback": [
      "\u001b[0;31m---------------------------------------------------------------------------\u001b[0m",
      "\u001b[0;31mImportError\u001b[0m                               Traceback (most recent call last)",
      "\u001b[0;32m/tmp/ipykernel_19906/1697319318.py\u001b[0m in \u001b[0;36m<module>\u001b[0;34m\u001b[0m\n\u001b[1;32m     13\u001b[0m     \u001b[0mdo_train\u001b[0m\u001b[0;34m=\u001b[0m\u001b[0;32mTrue\u001b[0m\u001b[0;34m,\u001b[0m\u001b[0;34m\u001b[0m\u001b[0;34m\u001b[0m\u001b[0m\n\u001b[1;32m     14\u001b[0m     \u001b[0mdo_eval\u001b[0m\u001b[0;34m=\u001b[0m\u001b[0;32mTrue\u001b[0m\u001b[0;34m,\u001b[0m\u001b[0;34m\u001b[0m\u001b[0;34m\u001b[0m\u001b[0m\n\u001b[0;32m---> 15\u001b[0;31m     \u001b[0moutput_dir\u001b[0m\u001b[0;34m=\u001b[0m\u001b[0;34m\"./results\"\u001b[0m\u001b[0;34m,\u001b[0m\u001b[0;34m\u001b[0m\u001b[0;34m\u001b[0m\u001b[0m\n\u001b[0m\u001b[1;32m     16\u001b[0m )\n\u001b[1;32m     17\u001b[0m \u001b[0;34m\u001b[0m\u001b[0m\n",
      "\u001b[0;32m<string>\u001b[0m in \u001b[0;36m__init__\u001b[0;34m(self, output_dir, overwrite_output_dir, do_train, do_eval, do_predict, evaluation_strategy, prediction_loss_only, per_device_train_batch_size, per_device_eval_batch_size, per_gpu_train_batch_size, per_gpu_eval_batch_size, gradient_accumulation_steps, eval_accumulation_steps, eval_delay, learning_rate, weight_decay, adam_beta1, adam_beta2, adam_epsilon, max_grad_norm, num_train_epochs, max_steps, lr_scheduler_type, warmup_ratio, warmup_steps, log_level, log_level_replica, log_on_each_node, logging_dir, logging_strategy, logging_first_step, logging_steps, logging_nan_inf_filter, save_strategy, save_steps, save_total_limit, save_safetensors, save_on_each_node, no_cuda, use_mps_device, seed, data_seed, jit_mode_eval, use_ipex, bf16, fp16, fp16_opt_level, half_precision_backend, bf16_full_eval, fp16_full_eval, tf32, local_rank, ddp_backend, tpu_num_cores, tpu_metrics_debug, debug, dataloader_drop_last, eval_steps, dataloader_num_workers, past_index, run_name, disable_tqdm, remove_unused_columns, label_names, load_best_model_at_end, metric_for_best_model, greater_is_better, ignore_data_skip, sharded_ddp, fsdp, fsdp_min_num_params, fsdp_config, fsdp_transformer_layer_cls_to_wrap, deepspeed, label_smoothing_factor, optim, optim_args, adafactor, group_by_length, length_column_name, report_to, ddp_find_unused_parameters, ddp_bucket_cap_mb, dataloader_pin_memory, skip_memory_metrics, use_legacy_prediction_loop, push_to_hub, resume_from_checkpoint, hub_model_id, hub_strategy, hub_token, hub_private_repo, gradient_checkpointing, include_inputs_for_metrics, fp16_backend, push_to_hub_model_id, push_to_hub_organization, push_to_hub_token, mp_parameters, auto_find_batch_size, full_determinism, torchdynamo, ray_scope, ddp_timeout, torch_compile, torch_compile_backend, torch_compile_mode, xpu_backend)\u001b[0m\n",
      "\u001b[0;32m~/.local/lib/python3.7/site-packages/transformers/training_args.py\u001b[0m in \u001b[0;36m__post_init__\u001b[0;34m(self)\u001b[0m\n\u001b[1;32m   1338\u001b[0m             \u001b[0mself\u001b[0m\u001b[0;34m.\u001b[0m\u001b[0mframework\u001b[0m \u001b[0;34m==\u001b[0m \u001b[0;34m\"pt\"\u001b[0m\u001b[0;34m\u001b[0m\u001b[0;34m\u001b[0m\u001b[0m\n\u001b[1;32m   1339\u001b[0m             \u001b[0;32mand\u001b[0m \u001b[0mis_torch_available\u001b[0m\u001b[0;34m(\u001b[0m\u001b[0;34m)\u001b[0m\u001b[0;34m\u001b[0m\u001b[0;34m\u001b[0m\u001b[0m\n\u001b[0;32m-> 1340\u001b[0;31m             \u001b[0;32mand\u001b[0m \u001b[0;34m(\u001b[0m\u001b[0mself\u001b[0m\u001b[0;34m.\u001b[0m\u001b[0mdevice\u001b[0m\u001b[0;34m.\u001b[0m\u001b[0mtype\u001b[0m \u001b[0;34m!=\u001b[0m \u001b[0;34m\"cuda\"\u001b[0m\u001b[0;34m)\u001b[0m\u001b[0;34m\u001b[0m\u001b[0;34m\u001b[0m\u001b[0m\n\u001b[0m\u001b[1;32m   1341\u001b[0m             \u001b[0;32mand\u001b[0m \u001b[0;34m(\u001b[0m\u001b[0mget_xla_device_type\u001b[0m\u001b[0;34m(\u001b[0m\u001b[0mself\u001b[0m\u001b[0;34m.\u001b[0m\u001b[0mdevice\u001b[0m\u001b[0;34m)\u001b[0m \u001b[0;34m!=\u001b[0m \u001b[0;34m\"GPU\"\u001b[0m\u001b[0;34m)\u001b[0m\u001b[0;34m\u001b[0m\u001b[0;34m\u001b[0m\u001b[0m\n\u001b[1;32m   1342\u001b[0m             \u001b[0;32mand\u001b[0m \u001b[0;34m(\u001b[0m\u001b[0mself\u001b[0m\u001b[0;34m.\u001b[0m\u001b[0mfp16\u001b[0m \u001b[0;32mor\u001b[0m \u001b[0mself\u001b[0m\u001b[0;34m.\u001b[0m\u001b[0mfp16_full_eval\u001b[0m\u001b[0;34m)\u001b[0m\u001b[0;34m\u001b[0m\u001b[0;34m\u001b[0m\u001b[0m\n",
      "\u001b[0;32m~/.local/lib/python3.7/site-packages/transformers/training_args.py\u001b[0m in \u001b[0;36mdevice\u001b[0;34m(self)\u001b[0m\n\u001b[1;32m   1762\u001b[0m         \"\"\"\n\u001b[1;32m   1763\u001b[0m         \u001b[0mrequires_backends\u001b[0m\u001b[0;34m(\u001b[0m\u001b[0mself\u001b[0m\u001b[0;34m,\u001b[0m \u001b[0;34m[\u001b[0m\u001b[0;34m\"torch\"\u001b[0m\u001b[0;34m]\u001b[0m\u001b[0;34m)\u001b[0m\u001b[0;34m\u001b[0m\u001b[0;34m\u001b[0m\u001b[0m\n\u001b[0;32m-> 1764\u001b[0;31m         \u001b[0;32mreturn\u001b[0m \u001b[0mself\u001b[0m\u001b[0;34m.\u001b[0m\u001b[0m_setup_devices\u001b[0m\u001b[0;34m\u001b[0m\u001b[0;34m\u001b[0m\u001b[0m\n\u001b[0m\u001b[1;32m   1765\u001b[0m \u001b[0;34m\u001b[0m\u001b[0m\n\u001b[1;32m   1766\u001b[0m     \u001b[0;34m@\u001b[0m\u001b[0mproperty\u001b[0m\u001b[0;34m\u001b[0m\u001b[0;34m\u001b[0m\u001b[0m\n",
      "\u001b[0;32m~/.local/lib/python3.7/site-packages/transformers/utils/generic.py\u001b[0m in \u001b[0;36m__get__\u001b[0;34m(self, obj, objtype)\u001b[0m\n\u001b[1;32m     52\u001b[0m         \u001b[0mcached\u001b[0m \u001b[0;34m=\u001b[0m \u001b[0mgetattr\u001b[0m\u001b[0;34m(\u001b[0m\u001b[0mobj\u001b[0m\u001b[0;34m,\u001b[0m \u001b[0mattr\u001b[0m\u001b[0;34m,\u001b[0m \u001b[0;32mNone\u001b[0m\u001b[0;34m)\u001b[0m\u001b[0;34m\u001b[0m\u001b[0;34m\u001b[0m\u001b[0m\n\u001b[1;32m     53\u001b[0m         \u001b[0;32mif\u001b[0m \u001b[0mcached\u001b[0m \u001b[0;32mis\u001b[0m \u001b[0;32mNone\u001b[0m\u001b[0;34m:\u001b[0m\u001b[0;34m\u001b[0m\u001b[0;34m\u001b[0m\u001b[0m\n\u001b[0;32m---> 54\u001b[0;31m             \u001b[0mcached\u001b[0m \u001b[0;34m=\u001b[0m \u001b[0mself\u001b[0m\u001b[0;34m.\u001b[0m\u001b[0mfget\u001b[0m\u001b[0;34m(\u001b[0m\u001b[0mobj\u001b[0m\u001b[0;34m)\u001b[0m\u001b[0;34m\u001b[0m\u001b[0;34m\u001b[0m\u001b[0m\n\u001b[0m\u001b[1;32m     55\u001b[0m             \u001b[0msetattr\u001b[0m\u001b[0;34m(\u001b[0m\u001b[0mobj\u001b[0m\u001b[0;34m,\u001b[0m \u001b[0mattr\u001b[0m\u001b[0;34m,\u001b[0m \u001b[0mcached\u001b[0m\u001b[0;34m)\u001b[0m\u001b[0;34m\u001b[0m\u001b[0;34m\u001b[0m\u001b[0m\n\u001b[1;32m     56\u001b[0m         \u001b[0;32mreturn\u001b[0m \u001b[0mcached\u001b[0m\u001b[0;34m\u001b[0m\u001b[0;34m\u001b[0m\u001b[0m\n",
      "\u001b[0;32m~/.local/lib/python3.7/site-packages/transformers/training_args.py\u001b[0m in \u001b[0;36m_setup_devices\u001b[0;34m(self)\u001b[0m\n\u001b[1;32m   1671\u001b[0m             \u001b[0;32mif\u001b[0m \u001b[0;32mnot\u001b[0m \u001b[0mis_accelerate_available\u001b[0m\u001b[0;34m(\u001b[0m\u001b[0mmin_version\u001b[0m\u001b[0;34m=\u001b[0m\u001b[0;34m\"0.20.1\"\u001b[0m\u001b[0;34m)\u001b[0m\u001b[0;34m:\u001b[0m\u001b[0;34m\u001b[0m\u001b[0;34m\u001b[0m\u001b[0m\n\u001b[1;32m   1672\u001b[0m                 raise ImportError(\n\u001b[0;32m-> 1673\u001b[0;31m                     \u001b[0;34m\"Using the `Trainer` with `PyTorch` requires `accelerate>=0.20.1`: Please run `pip install transformers[torch]` or `pip install accelerate -U`\"\u001b[0m\u001b[0;34m\u001b[0m\u001b[0;34m\u001b[0m\u001b[0m\n\u001b[0m\u001b[1;32m   1674\u001b[0m                 )\n\u001b[1;32m   1675\u001b[0m             \u001b[0mAcceleratorState\u001b[0m\u001b[0;34m.\u001b[0m\u001b[0m_reset_state\u001b[0m\u001b[0;34m(\u001b[0m\u001b[0mreset_partial_state\u001b[0m\u001b[0;34m=\u001b[0m\u001b[0;32mTrue\u001b[0m\u001b[0;34m)\u001b[0m\u001b[0;34m\u001b[0m\u001b[0;34m\u001b[0m\u001b[0m\n",
      "\u001b[0;31mImportError\u001b[0m: Using the `Trainer` with `PyTorch` requires `accelerate>=0.20.1`: Please run `pip install transformers[torch]` or `pip install accelerate -U`"
     ]
    }
   ],
   "source": [
    "wandb.init(project='NEDAI',name='try1')\n",
    "\n",
    "model.to(device)\n",
    "\n",
    "training_args = TrainingArguments(\n",
    "    per_device_train_batch_size=8,\n",
    "    per_device_eval_batch_size=8,\n",
    "    num_train_epochs=3,\n",
    "    evaluation_strategy=\"epoch\",\n",
    "    logging_dir=\"./logs\",\n",
    "    report_to=\"wandb\",  # Log to wandb\n",
    "    logging_steps=100,\n",
    "    do_train=True,\n",
    "    do_eval=True,\n",
    "    output_dir=\"./results\",\n",
    ")\n",
    "\n",
    "# Define the Trainer\n",
    "trainer = Trainer(\n",
    "    model = model,\n",
    "    args = training_args,\n",
    "    data_collator = data_collator,\n",
    "    train_dataset = tokenized_datasets[\"train\"],\n",
    "    eval_dataset = tokenized_datasets[\"validation\"],\n",
    "    tokenizer = tokenizer,\n",
    ")\n",
    "\n",
    "# Train the model\n",
    "trainer.train()\n",
    "wandb.finish()\n",
    "\n",
    "# Save the model\n",
    "model.save_pretrained(\"./ner_model\")\n",
    "tokenizer.save_pretrained(\"./ner_model\")"
   ]
  },
  {
   "cell_type": "code",
   "execution_count": null,
   "id": "3931140c-147e-4cd6-89eb-cb8f9d4232e4",
   "metadata": {},
   "outputs": [],
   "source": []
  }
 ],
 "metadata": {
  "kernelspec": {
   "display_name": "Python 3 (ipykernel)",
   "language": "python",
   "name": "python3"
  },
  "language_info": {
   "codemirror_mode": {
    "name": "ipython",
    "version": 3
   },
   "file_extension": ".py",
   "mimetype": "text/x-python",
   "name": "python",
   "nbconvert_exporter": "python",
   "pygments_lexer": "ipython3",
   "version": "3.9.17"
  }
 },
 "nbformat": 4,
 "nbformat_minor": 5
}
