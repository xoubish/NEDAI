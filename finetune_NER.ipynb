{
 "cells": [
  {
   "cell_type": "code",
   "execution_count": null,
   "id": "0aeb6844-fe58-4dfb-a7ca-1c7433a60eae",
   "metadata": {
    "tags": []
   },
   "outputs": [],
   "source": [
    "import torch\n",
    "from transformers import BertTokenizer, BertForTokenClassification, Trainer, TrainingArguments\n",
    "from datasets import load_dataset\n",
    "from transformers import AutoTokenizer, AutoModelForTokenClassification\n",
    "from transformers import pipeline\n",
    "import wandb\n",
    "\n",
    "device = \"cuda\" if torch.cuda.is_available() else \"cpu\"\n",
    "print(device)"
   ]
  },
  {
   "cell_type": "markdown",
   "id": "080572ed-9a6d-4a52-972e-a14c8ca2d0e2",
   "metadata": {},
   "source": [
    "## 1. Load your dataset\n"
   ]
  },
  {
   "cell_type": "code",
   "execution_count": null,
   "id": "0ebb7857-16fa-4d93-a5c6-bae39d884fe6",
   "metadata": {
    "tags": []
   },
   "outputs": [],
   "source": [
    "def process_sample(batch):\n",
    "    tokens_list = []\n",
    "    tags_list = []\n",
    "    tokens = []\n",
    "    tags = []\n",
    "    \n",
    "    for line in batch['text']:\n",
    "        if line:  # non-empty line means we have a token-tag pair\n",
    "            token, tag = line.split()  # assuming space is the delimiter\n",
    "            tokens.append(token)\n",
    "            tags.append(tag)\n",
    "        else:  # empty line means end of sentence\n",
    "            tokens_list.append(tokens)\n",
    "            tags_list.append(tags)\n",
    "            tokens = []\n",
    "            tags = []\n",
    "    \n",
    "    # Add remaining tokens and tags if there's any\n",
    "    if tokens:\n",
    "        tokens_list.append(tokens)\n",
    "        tags_list.append(tags)\n",
    "    \n",
    "    return {'tokens': tokens_list, 'tags': tags_list}\n",
    "    \n",
    "\n",
    "data_files = {\n",
    "    'train': 'data/filtered_train.txt',\n",
    "    'validation': 'data/filtered_val.txt',\n",
    "    'test': 'data/filtered_test.txt'\n",
    "}\n",
    "\n",
    "# Load the dataset from local files without specifying a script\n",
    "dataset = load_dataset('text', data_files=data_files)\n",
    "pdataset = dataset.map(process_sample, batched=True, remove_columns=['text'])\n"
   ]
  },
  {
   "cell_type": "markdown",
   "id": "f089fbfc-c092-469d-bad8-e14b21ac27bb",
   "metadata": {},
   "source": [
    "## 2. Load the tokenizer and model\n"
   ]
  },
  {
   "cell_type": "code",
   "execution_count": null,
   "id": "7c3795be-392b-44fc-89ab-6c65077d1744",
   "metadata": {
    "tags": []
   },
   "outputs": [],
   "source": [
    "id2label = {\n",
    "    0: \"O\",\n",
    "    1: \"B-ap_name1\",\n",
    "    2: \"I-ap_name1\",\n",
    "    3: \"B-vz1\",\n",
    "    4: \"I-vz1\",\n",
    "    5: \"B-coordx1\",\n",
    "    6: \"I-coordx1\",\n",
    "    7: \"B-coordy1\",\n",
    "    8: \"I-coordy1\",\n",
    "    9: \"B-type1\",\n",
    "    10: \"I-type1\",\n",
    "}\n",
    "label2id = {\"O\": 0,\n",
    "          \"B-ap_name1\": 1,\n",
    "          \"I-ap_name1\": 2,\n",
    "          \"B-vz1\": 3,\n",
    "          \"I-vz1\": 4,\n",
    "          \"B-coordx1\": 5,\n",
    "          \"I-coordx1\": 6,\n",
    "          \"B-coordy1\": 7,\n",
    "          \"I-coordy1\": 8,\n",
    "          \"B-type1\": 9,\n",
    "          \"I-type1\": 10,\n",
    "         }"
   ]
  },
  {
   "cell_type": "code",
   "execution_count": null,
   "id": "c6e6eaf2-03f8-4430-8515-9a59d61ad4f6",
   "metadata": {
    "tags": []
   },
   "outputs": [],
   "source": [
    "tokenizer = AutoTokenizer.from_pretrained(\"dslim/bert-base-NER\", add_prefix_space=True)\n",
    "model = AutoModelForTokenClassification.from_pretrained(\"dslim/bert-base-NER\", num_labels=11, id2label=id2label, label2id=label2id,ignore_mismatched_sizes=True)\n",
    "\n",
    "# Define a data collator to handle token-level tasks (like NER)\n",
    "from transformers import DataCollatorForTokenClassification\n",
    "data_collator = DataCollatorForTokenClassification(tokenizer)\n"
   ]
  },
  {
   "cell_type": "markdown",
   "id": "26296055-aea6-4ec1-8d17-60f71cf46cca",
   "metadata": {},
   "source": [
    "## 3. Tokenize the dataset\n"
   ]
  },
  {
   "cell_type": "code",
   "execution_count": null,
   "id": "cac9aa3e-9b5c-4975-938b-2cd1663a283b",
   "metadata": {
    "tags": []
   },
   "outputs": [],
   "source": [
    "def recursive_label2id_conversion(label, label2id):\n",
    "    if isinstance(label, str):\n",
    "        return label2id[label]\n",
    "    elif isinstance(label, list):\n",
    "        return [recursive_label2id_conversion(l, label2id) for l in label]\n",
    "    else:\n",
    "        raise ValueError(\"Unsupported label type\")\n",
    "        \n",
    "def tokenize_and_align_labels2(examples, label2id):\n",
    "    tokenized_inputs = tokenizer(examples[\"tokens\"], truncation=True, is_split_into_words=True)\n",
    "\n",
    "    labels = []\n",
    "    for i, label in enumerate(examples[f\"tags\"]):\n",
    "        converted_label = recursive_label2id_conversion(label, label2id)\n",
    "\n",
    "        word_ids = tokenized_inputs.word_ids(batch_index=i)\n",
    "        previous_word_idx = None\n",
    "        label_ids = []\n",
    "        for word_idx in word_ids:\n",
    "            if word_idx is None:\n",
    "                label_ids.append(-100)\n",
    "            elif word_idx != previous_word_idx:\n",
    "                label_ids.append(converted_label[word_idx])\n",
    "            else:\n",
    "                label_ids.append(-100)\n",
    "            previous_word_idx = word_idx\n",
    "        labels.append(label_ids)\n",
    "\n",
    "    tokenized_inputs[\"labels\"] = labels\n",
    "    return tokenized_inputs\n",
    "\n",
    "#tokenized_datasets = pdataset.map(tokenize_function, batched=True, num_proc=4)\n",
    "tokenized_datap = pdataset.map(tokenize_and_align_labels2, batched=True, fn_kwargs={\"label2id\": label2id},num_proc=4)\n"
   ]
  },
  {
   "cell_type": "markdown",
   "id": "d4450100-f7f4-4a18-91cc-0cda80f70c58",
   "metadata": {},
   "source": [
    "## 4. Train\n"
   ]
  },
  {
   "cell_type": "code",
   "execution_count": null,
   "id": "28bb1b65-a1f5-4951-b11e-017635d2442c",
   "metadata": {
    "tags": []
   },
   "outputs": [],
   "source": [
    "wandb.init(project='NEDAI',name='try1')\n",
    "\n",
    "model.to(device)\n",
    "\n",
    "training_args = TrainingArguments(\n",
    "    per_device_train_batch_size=8,\n",
    "    per_device_eval_batch_size=8,\n",
    "    num_train_epochs=30,\n",
    "    evaluation_strategy=\"epoch\",\n",
    "    logging_dir=\"./logs\",\n",
    "    report_to=\"wandb\",  # Log to wandb\n",
    "    logging_steps=20,\n",
    "    do_train=True,\n",
    "    do_eval=True,\n",
    "    output_dir=\"./results\",\n",
    ")\n",
    "\n",
    "# Define the Trainer\n",
    "trainer = Trainer(\n",
    "    model = model,\n",
    "    args = training_args,\n",
    "    data_collator = data_collator,\n",
    "    train_dataset = tokenized_datap[\"train\"],\n",
    "    eval_dataset = tokenized_datap[\"validation\"],\n",
    "    tokenizer = tokenizer,\n",
    ")\n",
    "\n",
    "# Train the model\n",
    "trainer.train()\n",
    "wandb.finish()\n",
    "\n",
    "# Save the model\n",
    "model.save_pretrained(\"./ner_model\")\n",
    "tokenizer.save_pretrained(\"./ner_model\")"
   ]
  },
  {
   "cell_type": "markdown",
   "id": "ffad829e-ee8f-457f-9030-3e2e74af5458",
   "metadata": {},
   "source": [
    "# Inference"
   ]
  },
  {
   "cell_type": "code",
   "execution_count": null,
   "id": "fcd54252-caeb-4feb-a4f0-8da9c1e4faeb",
   "metadata": {
    "tags": []
   },
   "outputs": [],
   "source": [
    "from datasets import load_dataset\n",
    "from transformers import (\n",
    "    AutoModelForTokenClassification,\n",
    "    AutoTokenizer,\n",
    "    DataCollatorForTokenClassification,\n",
    "    TrainingArguments,\n",
    "    Trainer,\n",
    "    pipeline,\n",
    ")\n",
    "from peft import get_peft_config, PeftModel, PeftConfig, get_peft_model, LoraConfig, TaskType\n",
    "import evaluate\n",
    "import numpy as np\n",
    "\n",
    "id2label = {\n",
    "    0: \"O\",\n",
    "    1: \"B-ap_name1\",\n",
    "    2: \"I-ap_name1\",\n",
    "    3: \"B-vz1\",\n",
    "    4: \"I-vz1\",\n",
    "    5: \"B-coordx1\",\n",
    "    6: \"I-coordx1\",\n",
    "    7: \"B-coordy1\",\n",
    "    8: \"I-coordy1\",\n",
    "    9: \"B-type1\",\n",
    "    10: \"I-type1\",\n",
    "}\n",
    "label2id = {\"O\": 0,\n",
    "          \"B-ap_name1\": 1,\n",
    "          \"I-ap_name1\": 2,\n",
    "          \"B-vz1\": 3,\n",
    "          \"I-vz1\": 4,\n",
    "          \"B-coordx1\": 5,\n",
    "          \"I-coordx1\": 6,\n",
    "          \"B-coordy1\": 7,\n",
    "          \"I-coordy1\": 8,\n",
    "          \"B-type1\": 9,\n",
    "          \"I-type1\": 10,\n",
    "         }\n",
    "\n",
    "def format_pred_for_print(pred, paragraph):\n",
    "    '''\n",
    "    returns a pretty string with the predictions in paragraph highlighted.\n",
    "    pred: prediction output from a pipeline\n",
    "    paragraph: the original text the predictions were made on\n",
    "    '''\n",
    "    \n",
    "    RED_START = '\\x1b[31m'\n",
    "    RED_END = '\\x1b[0m'\n",
    "    \n",
    "    formatted_string=''\n",
    "    end=0\n",
    "    \n",
    "    for entry in pred:\n",
    "        start = entry['start']\n",
    "        # add what's in between\n",
    "        formatted_string += paragraph[end:start]\n",
    "        # add the entry\n",
    "        end = entry['end']\n",
    "        label = entry['entity']\n",
    "        score = ' {:.2f}'.format(entry['score'])\n",
    "        formatted_string+= RED_START+'['+paragraph[start:end]+' ('+label+score+')]'+RED_END\n",
    "        \n",
    "    formatted_string+= paragraph[end:]\n",
    "    return(formatted_string)\n",
    "import warnings\n",
    "warnings.filterwarnings('ignore')\n",
    "warnings.filterwarnings('ignore', category=UserWarning)\n"
   ]
  },
  {
   "cell_type": "code",
   "execution_count": null,
   "id": "3931140c-147e-4cd6-89eb-cb8f9d4232e4",
   "metadata": {
    "tags": []
   },
   "outputs": [],
   "source": [
    "\n",
    "tokenizer = AutoTokenizer.from_pretrained(\"./results/checkpoint-62000/\")\n",
    "model = AutoModelForTokenClassification.from_pretrained(\"./results/checkpoint-62000/\")\n",
    "nlp = pipeline(\"ner\", model=model, tokenizer=tokenizer)\n"
   ]
  },
  {
   "cell_type": "code",
   "execution_count": null,
   "id": "4ef27365-910e-49eb-91e6-7ef2480168e8",
   "metadata": {
    "tags": []
   },
   "outputs": [],
   "source": [
    "text = \"In this work we studied in detail galaxiy M45 which is at z=0.1 and very actively forming stars. We also compared this to a high redshift object SN-2318 which recently exploded nearby and might belong to a different host.\"\n",
    "pred = nlp(text)\n",
    "print(format_pred_for_print(pred,text))"
   ]
  },
  {
   "cell_type": "markdown",
   "id": "b867e324-b676-4d34-8004-5e4b5ddb3dec",
   "metadata": {},
   "source": [
    "## Inference with PEFT"
   ]
  },
  {
   "cell_type": "code",
   "execution_count": null,
   "id": "f25861bd-de89-47c4-ae21-b82cfbd0fdac",
   "metadata": {
    "tags": []
   },
   "outputs": [],
   "source": [
    "peft_model_id = 'NER-BERT-lora-token-classification/ok'\n",
    "config = PeftConfig.from_pretrained(peft_model_id)\n",
    "tokenizerpeft = AutoTokenizer.from_pretrained(config.base_model_name_or_path)\n",
    "inference_model = AutoModelForTokenClassification.from_pretrained(config.base_model_name_or_path, num_labels=11, id2label=id2label, label2id=label2id,ignore_mismatched_sizes=True)\n",
    "modelpeft = PeftModel.from_pretrained(inference_model, peft_model_id)\n",
    "nlpeft = pipeline(\"ner\", model=modelpeft, tokenizer=tokenizerpeft)\n"
   ]
  },
  {
   "cell_type": "code",
   "execution_count": null,
   "id": "35b2cb0e-90e8-4510-833e-c409073cdb20",
   "metadata": {
    "tags": []
   },
   "outputs": [],
   "source": [
    "text = \"We observed the sky with Keck in J-band filter. It was a clear night. Then we studied in detail galaxiy M422 which is at z=0.1 and very actively forming stars. We also compared this to a high redshift object SN-2318 which recently exploded nearby and might belong to a different host.\"\n",
    "pred = nlpeft(text)\n",
    "\n",
    "print(format_pred_for_print(pred,text))"
   ]
  },
  {
   "cell_type": "code",
   "execution_count": null,
   "id": "7f989c17-b644-4acf-86d7-3613b2a10943",
   "metadata": {},
   "outputs": [],
   "source": []
  }
 ],
 "metadata": {
  "kernelspec": {
   "display_name": "Python 3 (ipykernel)",
   "language": "python",
   "name": "python3"
  },
  "language_info": {
   "codemirror_mode": {
    "name": "ipython",
    "version": 3
   },
   "file_extension": ".py",
   "mimetype": "text/x-python",
   "name": "python",
   "nbconvert_exporter": "python",
   "pygments_lexer": "ipython3",
   "version": "3.7.3"
  }
 },
 "nbformat": 4,
 "nbformat_minor": 5
}
