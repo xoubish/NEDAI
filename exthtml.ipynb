{
 "cells": [
  {
   "cell_type": "code",
   "execution_count": 1,
   "id": "516a87e3-ff9d-4ec3-8260-8b5ea3e31b53",
   "metadata": {
    "tags": []
   },
   "outputs": [],
   "source": [
    "import pandas as pd\n",
    "import re\n",
    "from bs4 import BeautifulSoup\n",
    "\n",
    "\n",
    "from transformers import pipeline\n",
    "#model finetuned for question-answering:\n",
    "tqa = pipeline(task=\"table-question-answering\", model=\"google/tapas-large-finetuned-wtq\")\n",
    "\n",
    "def cleantable(df):\n",
    "    '''change multi-index column to single and \n",
    "    Iterate through each row and column in the DataFrame to remove non byte like characters'''\n",
    "    \n",
    "    df.columns = [' '.join(col).strip() for col in df.columns.values]\n",
    "\n",
    "    for index, row in df.iterrows():\n",
    "        for col in df.columns:\n",
    "            df.at[index, col] = re.sub('[^a-zA-Z0-9]', '', str(row[col]))\n",
    "    return df"
   ]
  },
  {
   "cell_type": "code",
   "execution_count": 2,
   "id": "1cfcd2ff-9986-4c67-bc20-59ba60bc237f",
   "metadata": {},
   "outputs": [],
   "source": [
    "# Read the HTML file into a Pandas dataframe\n",
    "with open('../2022ApJ...924...14P.html') as file:\n",
    "    soup = BeautifulSoup(file, 'html.parser')\n",
    "tables = pd.read_html(str(soup))\n",
    "\n",
    "\n",
    "    \n"
   ]
  },
  {
   "cell_type": "code",
   "execution_count": 6,
   "id": "343766cd-8827-40d6-9e01-0f75b88becba",
   "metadata": {},
   "outputs": [
    {
     "name": "stdout",
     "output_type": "stream",
     "text": [
      "{'answer': 'COSMOSACSF814Wncnn, CANDELSACSF606Wndnn', 'coordinates': [(0, 0), (1, 0)], 'cells': ['COSMOSACSF814Wncnn', 'CANDELSACSF606Wndnn'], 'aggregator': 'NONE'}\n",
      "{'answer': 'ndrizcrcorrn, ndrizcombinen, ncleann, nfinalwcsn, nfinalscalen, nfinalpixfracn, nskymethodn, nskysubn, ncombinetypen', 'coordinates': [(0, 0), (1, 0), (2, 0), (3, 0), (4, 0), (5, 0), (6, 0), (7, 0), (8, 0)], 'cells': ['ndrizcrcorrn', 'ndrizcombinen', 'ncleann', 'nfinalwcsn', 'nfinalscalen', 'nfinalpixfracn', 'nskymethodn', 'nskysubn', 'ncombinetypen'], 'aggregator': 'NONE'}\n",
      "{'answer': '', 'coordinates': [], 'cells': [], 'aggregator': 'NONE'}\n",
      "{'answer': 'zf9775, zf11754, zf14000', 'coordinates': [(0, 0), (1, 0), (2, 0)], 'cells': ['zf9775', 'zf11754', 'zf14000'], 'aggregator': 'NONE'}\n",
      "{'answer': 'zf9775, zf11754, zf14000, zf11423, zf12283, zf8333, zf8461, zf13836, zf14198, zf13312', 'coordinates': [(0, 0), (1, 0), (2, 0), (3, 0), (4, 0), (5, 0), (6, 0), (7, 0), (8, 0), (9, 0)], 'cells': ['zf9775', 'zf11754', 'zf14000', 'zf11423', 'zf12283', 'zf8333', 'zf8461', 'zf13836', 'zf14198', 'zf13312'], 'aggregator': 'NONE'}\n",
      "{'answer': 'zf9775, zf11754, zf14000, zf11423, zf12283, zf8333, zf8461, zf13836', 'coordinates': [(0, 0), (1, 0), (2, 0), (3, 0), (4, 0), (5, 0), (6, 0), (7, 0)], 'cells': ['zf9775', 'zf11754', 'zf14000', 'zf11423', 'zf12283', 'zf8333', 'zf8461', 'zf13836'], 'aggregator': 'NONE'}\n"
     ]
    }
   ],
   "source": [
    "for t in tables:\n",
    "    df = cleantable(t)\n",
    "    question = 'are object names or ids mentioned? if yes what are they? give them in an array'\n",
    "    print(tqa(table=df, query=question))"
   ]
  },
  {
   "cell_type": "code",
   "execution_count": null,
   "id": "194e8893-6528-49d2-8663-8c8a508d5968",
   "metadata": {},
   "outputs": [],
   "source": []
  }
 ],
 "metadata": {
  "kernelspec": {
   "display_name": "Python 3 (ipykernel)",
   "language": "python",
   "name": "python3"
  },
  "language_info": {
   "codemirror_mode": {
    "name": "ipython",
    "version": 3
   },
   "file_extension": ".py",
   "mimetype": "text/x-python",
   "name": "python",
   "nbconvert_exporter": "python",
   "pygments_lexer": "ipython3",
   "version": "3.10.9"
  }
 },
 "nbformat": 4,
 "nbformat_minor": 5
}
