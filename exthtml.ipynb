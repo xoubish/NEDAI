{
 "cells": [
  {
   "cell_type": "code",
   "execution_count": 5,
   "id": "516a87e3-ff9d-4ec3-8260-8b5ea3e31b53",
   "metadata": {
    "tags": []
   },
   "outputs": [],
   "source": [
    "import pandas as pd\n",
    "import re\n",
    "from bs4 import BeautifulSoup\n",
    "import numpy as np\n",
    "\n",
    "\n",
    "from transformers import pipeline\n",
    "#model finetuned for question-answering:\n",
    "tqa = pipeline(task=\"table-question-answering\", model=\"google/tapas-large-finetuned-wtq\")\n",
    "\n",
    "def cleantable(df):\n",
    "    '''change multi-index column to single and \n",
    "    Iterate through each row and column in the DataFrame to remove non byte like characters'''\n",
    "    \n",
    "    df.columns = [' '.join(col).strip() for col in df.columns.values]\n",
    "\n",
    "    for index, row in df.iterrows():\n",
    "        for col in df.columns:\n",
    "            df.at[index, col] = re.sub('[^a-zA-Z0-9]', '', str(row[col]))\n",
    "    return df"
   ]
  },
  {
   "cell_type": "code",
   "execution_count": 3,
   "id": "1cfcd2ff-9986-4c67-bc20-59ba60bc237f",
   "metadata": {},
   "outputs": [],
   "source": [
    "# Read the HTML file into a Pandas dataframe\n",
    "with open('2022ApJ...924...14P.html') as file:\n",
    "    soup = BeautifulSoup(file, 'html.parser')\n",
    "tables = pd.read_html(str(soup))\n",
    "\n",
    "\n",
    "    \n"
   ]
  },
  {
   "cell_type": "code",
   "execution_count": 4,
   "id": "343766cd-8827-40d6-9e01-0f75b88becba",
   "metadata": {},
   "outputs": [
    {
     "name": "stdout",
     "output_type": "stream",
     "text": [
      "{'answer': 'COSMOSACSF814Wncnn, CANDELSACSF606Wndnn', 'coordinates': [(0, 0), (1, 0)], 'cells': ['COSMOSACSF814Wncnn', 'CANDELSACSF606Wndnn'], 'aggregator': 'NONE'}\n",
      "{'answer': 'ndrizcrcorrn, ndrizcombinen, ncleann, nfinalwcsn, nfinalscalen, nfinalpixfracn, nskymethodn, nskysubn, ncombinetypen', 'coordinates': [(0, 0), (1, 0), (2, 0), (3, 0), (4, 0), (5, 0), (6, 0), (7, 0), (8, 0)], 'cells': ['ndrizcrcorrn', 'ndrizcombinen', 'ncleann', 'nfinalwcsn', 'nfinalscalen', 'nfinalpixfracn', 'nskymethodn', 'nskysubn', 'ncombinetypen'], 'aggregator': 'NONE'}\n",
      "{'answer': 'KeckILRIS, KeckILRIS, KeckIMOSFIRE, KeckILRIS, KeckILRIS, KeckILRIS, KeckIMOSFIRE, LBTMODS1, KeckILRIS, KeckILRIS', 'coordinates': [(0, 0), (1, 0), (2, 0), (3, 0), (4, 0), (5, 0), (6, 0), (7, 0), (8, 0), (9, 0)], 'cells': ['KeckILRIS', 'KeckILRIS', 'KeckIMOSFIRE', 'KeckILRIS', 'KeckILRIS', 'KeckILRIS', 'KeckIMOSFIRE', 'LBTMODS1', 'KeckILRIS', 'KeckILRIS'], 'aggregator': 'NONE'}\n",
      "{'answer': 'zf9775, zf11754, zf14000', 'coordinates': [(0, 0), (1, 0), (2, 0)], 'cells': ['zf9775', 'zf11754', 'zf14000'], 'aggregator': 'NONE'}\n",
      "{'answer': 'zf9775, zf11754, zf14000, zf11423, zf12283, zf8333, zf8461, zf13836, zf14198, zf13312', 'coordinates': [(0, 0), (1, 0), (2, 0), (3, 0), (4, 0), (5, 0), (6, 0), (7, 0), (8, 0), (9, 0)], 'cells': ['zf9775', 'zf11754', 'zf14000', 'zf11423', 'zf12283', 'zf8333', 'zf8461', 'zf13836', 'zf14198', 'zf13312'], 'aggregator': 'NONE'}\n",
      "{'answer': 'zf9775, zf11754, zf14000, zf11423, zf12283, zf8333, zf8461, zf13836', 'coordinates': [(0, 0), (1, 0), (2, 0), (3, 0), (4, 0), (5, 0), (6, 0), (7, 0)], 'cells': ['zf9775', 'zf11754', 'zf14000', 'zf11423', 'zf12283', 'zf8333', 'zf8461', 'zf13836'], 'aggregator': 'NONE'}\n"
     ]
    }
   ],
   "source": [
    "for t in tables:\n",
    "    df = cleantable(t)\n",
    "    question = 'are object names or ids mentioned? if yes what are they? give them in an array'\n",
    "    print(tqa(table=df, query=question))"
   ]
  },
  {
   "cell_type": "code",
   "execution_count": 6,
   "id": "b38c5bc0-f07e-4fb6-942c-9661a9c86bdf",
   "metadata": {},
   "outputs": [
    {
     "name": "stdout",
     "output_type": "stream",
     "text": [
      "(35, 11)\n"
     ]
    }
   ],
   "source": [
    "a = df.values.tolist()\n",
    "print(np.shape(a))"
   ]
  },
  {
   "cell_type": "code",
   "execution_count": null,
   "id": "005bdf13-618e-49cd-bfe9-836a1c9eb8b1",
   "metadata": {},
   "outputs": [
    {
     "data": {
      "text/plain": [
       "\"Index(['ID \\\\xc2\\\\xa0', 'Isophotal\\\\n a\\\\n \\\\n Area (pixels)',\\n       '\\\\n mF336W\\\\n \\\\xc2\\\\xa0', 'S/N (F336W)', '\\\\n mF435W\\\\n \\\\xc2\\\\xa0',\\n       'S/N (F435W)', '\\\\n mF435W\\\\n \\\\n b\\\\n \\\\n (HSC Match)',\\n       '\\\\n mF606W\\\\n \\\\xc2\\\\xa0', 'S/N (F606W)', '\\\\n mF814W\\\\n \\\\xc2\\\\xa0',\\n       'S/N (F814W)'],\\n      dtype='object')\""
      ]
     },
     "execution_count": 8,
     "metadata": {},
     "output_type": "execute_result"
    }
   ],
   "source": [
    "df.columns"
   ]
  },
  {
   "cell_type": "code",
   "execution_count": 1,
   "id": "ce800d63-a79f-4a88-97aa-cf5c6746f8ba",
   "metadata": {},
   "outputs": [
    {
     "data": {
      "application/vnd.jupyter.widget-view+json": {
       "model_id": "55b3e9c67dcc488ebba72c8e43284068",
       "version_major": 2,
       "version_minor": 0
      },
      "text/plain": [
       "Downloading:   0%|          | 0.00/792k [00:00<?, ?B/s]"
      ]
     },
     "metadata": {},
     "output_type": "display_data"
    },
    {
     "data": {
      "application/vnd.jupyter.widget-view+json": {
       "model_id": "7f66f8a16a3c44fcbe7bac887219629f",
       "version_major": 2,
       "version_minor": 0
      },
      "text/plain": [
       "Downloading:   0%|          | 0.00/2.20k [00:00<?, ?B/s]"
      ]
     },
     "metadata": {},
     "output_type": "display_data"
    },
    {
     "data": {
      "application/vnd.jupyter.widget-view+json": {
       "model_id": "b3507a7e4b314c5a810ef4662d3c3cd1",
       "version_major": 2,
       "version_minor": 0
      },
      "text/plain": [
       "Downloading:   0%|          | 0.00/2.54k [00:00<?, ?B/s]"
      ]
     },
     "metadata": {},
     "output_type": "display_data"
    },
    {
     "data": {
      "application/vnd.jupyter.widget-view+json": {
       "model_id": "fa0fc14205dc4bae921c00720367d0be",
       "version_major": 2,
       "version_minor": 0
      },
      "text/plain": [
       "Downloading:   0%|          | 0.00/1.40k [00:00<?, ?B/s]"
      ]
     },
     "metadata": {},
     "output_type": "display_data"
    },
    {
     "data": {
      "application/vnd.jupyter.widget-view+json": {
       "model_id": "08fb4f61f0c446ec955887412973f0bb",
       "version_major": 2,
       "version_minor": 0
      },
      "text/plain": [
       "Downloading:   0%|          | 0.00/990M [00:00<?, ?B/s]"
      ]
     },
     "metadata": {},
     "output_type": "display_data"
    }
   ],
   "source": [
    "from transformers import T5Tokenizer, T5ForConditionalGeneration\n",
    "\n",
    "tokenizer = T5Tokenizer.from_pretrained(\"google/flan-t5-base\")\n",
    "model = T5ForConditionalGeneration.from_pretrained(\"google/flan-t5-base\")"
   ]
  },
  {
   "cell_type": "code",
   "execution_count": 16,
   "id": "24630e2a-7ba2-4397-a093-08c2f4792dc2",
   "metadata": {},
   "outputs": [
    {
     "name": "stdout",
     "output_type": "stream",
     "text": [
      "tensor([[    0,    33,   132,  3735,     3,    23,    26,     7,    16,     8,\n",
      "           953,    28,     8,   826, 15752,    10,     1]])\n",
      "<pad> are there object ids in the table with the following columns:</s>\n"
     ]
    }
   ],
   "source": [
    "input_text = 'are there object ids in a table with the following columns:'+str(df.columns)\n",
    "input_ids = tokenizer(input_text, return_tensors=\"pt\").input_ids\n",
    "\n",
    "outputs = model.generate(input_ids)\n",
    "print(outputs)\n",
    "print(tokenizer.decode(outputs[0]))"
   ]
  },
  {
   "cell_type": "code",
   "execution_count": 27,
   "id": "dc9d21ae-61b4-451a-87b5-2fa5b6798e89",
   "metadata": {},
   "outputs": [
    {
     "data": {
      "application/vnd.jupyter.widget-view+json": {
       "model_id": "454db90a512a4e9792712765d1edc676",
       "version_major": 2,
       "version_minor": 0
      },
      "text/plain": [
       "Downloading:   0%|          | 0.00/18.2k [00:00<?, ?B/s]"
      ]
     },
     "metadata": {},
     "output_type": "display_data"
    },
    {
     "data": {
      "text/plain": [
       "[{'score': 0.7181697487831116, 'start': 0, 'end': 0, 'answer': ''},\n",
       " {'score': 9.344970749225467e-05,\n",
       "  'start': 136,\n",
       "  'end': 149,\n",
       "  'answer': \"S/N (F435W)',\"},\n",
       " {'score': 4.46161357103847e-05,\n",
       "  'start': 136,\n",
       "  'end': 149,\n",
       "  'answer': \"S/N (F435W)',\"},\n",
       " {'score': 4.420016921358183e-05,\n",
       "  'start': 8,\n",
       "  'end': 19,\n",
       "  'answer': 'ID \\\\xc2\\\\xa0'},\n",
       " {'score': 3.8521822716575116e-05,\n",
       "  'start': 135,\n",
       "  'end': 149,\n",
       "  'answer': \"'S/N (F435W)',\"}]"
      ]
     },
     "execution_count": 27,
     "metadata": {},
     "output_type": "execute_result"
    }
   ],
   "source": [
    "oracle = pipeline(model=\"deepset/roberta-base-squad2\")\n",
    "oracle(question=\"What are the column names\", context=str(df.columns),topk=5,handle_impossible_answer=True)"
   ]
  },
  {
   "cell_type": "code",
   "execution_count": 11,
   "id": "3d4ffe37-3616-4d92-96eb-dfaafe9533ca",
   "metadata": {},
   "outputs": [
    {
     "name": "stdout",
     "output_type": "stream",
     "text": [
      "are there object ids in a table with the following columnsIndex(['ID \\xc2\\xa0', 'Isophotal\\n a\\n \\n Area (pixels)',\n",
      "       '\\n mF336W\\n \\xc2\\xa0', 'S/N (F336W)', '\\n mF435W\\n \\xc2\\xa0',\n",
      "       'S/N (F435W)', '\\n mF435W\\n \\n b\\n \\n (HSC Match)',\n",
      "       '\\n mF606W\\n \\xc2\\xa0', 'S/N (F606W)', '\\n mF814W\\n \\xc2\\xa0',\n",
      "       'S/N (F814W)'],\n",
      "      dtype='object')\n"
     ]
    }
   ],
   "source": [
    "print(input_text)"
   ]
  },
  {
   "cell_type": "code",
   "execution_count": null,
   "id": "753017a8-a10e-4e29-9fa8-c8ea6d277ad2",
   "metadata": {},
   "outputs": [],
   "source": []
  }
 ],
 "metadata": {
  "kernelspec": {
   "display_name": "Python 3 (ipykernel)",
   "language": "python",
   "name": "python3"
  },
  "language_info": {
   "codemirror_mode": {
    "name": "ipython",
    "version": 3
   },
   "file_extension": ".py",
   "mimetype": "text/x-python",
   "name": "python",
   "nbconvert_exporter": "python",
   "pygments_lexer": "ipython3",
   "version": "3.10.9"
  }
 },
 "nbformat": 4,
 "nbformat_minor": 5
}
