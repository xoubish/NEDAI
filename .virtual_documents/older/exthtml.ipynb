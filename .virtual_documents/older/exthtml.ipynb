import pandas as pd
import re
from bs4 import BeautifulSoup
import numpy as np


from transformers import pipeline
#model finetuned for question-answering:
tqa = pipeline(task="table-question-answering", model="google/tapas-large-finetuned-wtq")

def cleantable(df):
    '''change multi-index column to single and 
    Iterate through each row and column in the DataFrame to remove non byte like characters'''
    
    df.columns = [' '.join(col).strip() for col in df.columns.values]

    for index, row in df.iterrows():
        for col in df.columns:
            df.at[index, col] = re.sub('[^a-zA-Z0-9]', '', str(row[col]))
    return df


# Read the HTML file into a Pandas dataframe
with open('../data/2022-ApJ-Vol937/HTML/2022ApJ...937...30A.html') as file:
    soup = BeautifulSoup(file, 'html.parser')
tables = pd.read_html(str(soup))


    



print(tables)


for t in tables:
    df = cleantable(t)
    print(df)
    stop
    #question = 'are object names or ids mentioned? if yes what are they? give them in an array'
    #print(tqa(table=df, query=question))


a = df.values.tolist()
print(np.shape(a))


from transformers import T5Tokenizer, T5ForConditionalGeneration

tokenizer = T5Tokenizer.from_pretrained("google/flan-t5-base")
model = T5ForConditionalGeneration.from_pretrained("google/flan-t5-base")


input_text = 'are there object ids in a table with the following columns:'+str(df.columns)
input_ids = tokenizer(input_text, return_tensors="pt").input_ids

outputs = model.generate(input_ids)
print(outputs)
print(tokenizer.decode(outputs[0]))


oracle = pipeline(model="deepset/roberta-base-squad2")
oracle(question="What are the column names", context=str(df.columns),topk=5,handle_impossible_answer=True)


print(input_text)






