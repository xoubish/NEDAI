{
 "cells": [
  {
   "cell_type": "code",
   "execution_count": 1,
   "id": "516a87e3-ff9d-4ec3-8260-8b5ea3e31b53",
   "metadata": {
    "tags": []
   },
   "outputs": [],
   "source": [
    "import pandas as pd\n",
    "import re\n",
    "from bs4 import BeautifulSoup\n",
    "import numpy as np\n",
    "\n",
    "\n",
    "from transformers import pipeline\n",
    "#model finetuned for question-answering:\n",
    "tqa = pipeline(task=\"table-question-answering\", model=\"google/tapas-large-finetuned-wtq\")\n",
    "\n",
    "def cleantable(df):\n",
    "    '''change multi-index column to single and \n",
    "    Iterate through each row and column in the DataFrame to remove non byte like characters'''\n",
    "    \n",
    "    df.columns = [' '.join(col).strip() for col in df.columns.values]\n",
    "\n",
    "    for index, row in df.iterrows():\n",
    "        for col in df.columns:\n",
    "            df.at[index, col] = re.sub('[^a-zA-Z0-9]', '', str(row[col]))\n",
    "    return df"
   ]
  },
  {
   "cell_type": "code",
   "execution_count": 2,
   "id": "1cfcd2ff-9986-4c67-bc20-59ba60bc237f",
   "metadata": {},
   "outputs": [],
   "source": [
    "# Read the HTML file into a Pandas dataframe\n",
    "with open('../data/2022-ApJ-Vol937/HTML/2022ApJ...937...30A.html') as file:\n",
    "    soup = BeautifulSoup(file, 'html.parser')\n",
    "tables = pd.read_html(str(soup))\n",
    "\n",
    "\n",
    "    \n"
   ]
  },
  {
   "cell_type": "code",
   "execution_count": 3,
   "id": "4bba8b27-f247-498d-b614-df296d1744b3",
   "metadata": {},
   "outputs": [
    {
     "name": "stdout",
     "output_type": "stream",
     "text": [
      "[    \\xc2\\xa0                          \\n MNS,g\\n      \\n RNS\\n      \\n tBH\\n  \\\n",
      "         EOS            Remnant ( M\\xe2\\x8a\\x99)          (km)         (sec)   \n",
      "0    Togashi  canonical-mass NS             1.32          11.5  \\xe2\\x8b\\xaf   \n",
      "1   \\xc2\\xa0       high-mass NS             1.63          11.5  \\xe2\\x8b\\xaf   \n",
      "2   \\xc2\\xa0     BH (Failed SN)     \\xe2\\x8b\\xaf  \\xe2\\x8b\\xaf         0.533   \n",
      "3      \\n \\n              \\n \\n            \\n \\n         \\n \\n         \\n \\n   \n",
      "4      LS220  canonical-mass NS             1.34          12.7  \\xe2\\x8b\\xaf   \n",
      "5   \\xc2\\xa0       high-mass NS             1.65          12.4  \\xe2\\x8b\\xaf   \n",
      "6   \\xc2\\xa0     BH (Failed SN)     \\xe2\\x8b\\xaf  \\xe2\\x8b\\xaf         0.342   \n",
      "7      \\n \\n              \\n \\n            \\n \\n         \\n \\n         \\n \\n   \n",
      "8       Shen  canonical-mass NS             1.35          14.3  \\xe2\\x8b\\xaf   \n",
      "9   \\xc2\\xa0       high-mass NS             1.67          14.1  \\xe2\\x8b\\xaf   \n",
      "10  \\xc2\\xa0     BH (Failed SN)     \\xe2\\x8b\\xaf  \\xe2\\x8b\\xaf         0.842   \n",
      "\n",
      "   \\n \\\\langle {E}_{{\\\\nu }_{e}}\\\\rangle\\n  \\\n",
      "                                     (MeV)   \n",
      "0                                      9.2   \n",
      "1                                      9.5   \n",
      "2                                     16.1   \n",
      "3                                    \\n \\n   \n",
      "4                                      9.1   \n",
      "5                                      9.8   \n",
      "6                                     12.5   \n",
      "7                                    \\n \\n   \n",
      "8                                      9.0   \n",
      "9                                      9.6   \n",
      "10                                    17.5   \n",
      "\n",
      "   \\n \\\\langle {E}_{{\\\\bar{\\\\nu }}_{e}}\\\\rangle\\n  \\\n",
      "                                            (MeV)   \n",
      "0                                            10.9   \n",
      "1                                            11.2   \n",
      "2                                            20.4   \n",
      "3                                           \\n \\n   \n",
      "4                                            10.7   \n",
      "5                                            11.2   \n",
      "6                                            16.4   \n",
      "7                                           \\n \\n   \n",
      "8                                            10.6   \n",
      "9                                            11.2   \n",
      "10                                           21.7   \n",
      "\n",
      "   \\n \\\\langle {E}_{{\\\\nu }_{x}}\\\\rangle\\n  \\\n",
      "                                     (MeV)   \n",
      "0                                     11.8   \n",
      "1                                     11.9   \n",
      "2                                     23.4   \n",
      "3                                    \\n \\n   \n",
      "4                                     11.3   \n",
      "5                                     11.2   \n",
      "6                                     22.3   \n",
      "7                                    \\n \\n   \n",
      "8                                     11.3   \n",
      "9                                     11.2   \n",
      "10                                    23.4   \n",
      "\n",
      "   \\n {E}_{{\\\\nu }_{e},\\\\mathrm{tot}}\\n  \\\n",
      "                             (1052 erg)   \n",
      "0                                  4.47   \n",
      "1                                  7.26   \n",
      "2                                  6.85   \n",
      "3                                 \\n \\n   \n",
      "4                                  4.25   \n",
      "5                                  7.29   \n",
      "6                                  4.03   \n",
      "7                                 \\n \\n   \n",
      "8                                  3.65   \n",
      "9                                  6.22   \n",
      "10                                 9.49   \n",
      "\n",
      "   \\n {E}_{{\\\\bar{\\\\nu }}_{e},\\\\mathrm{tot}}\\n  \\\n",
      "                                    (1052 erg)   \n",
      "0                                         4.07   \n",
      "1                                         6.93   \n",
      "2                                         5.33   \n",
      "3                                        \\n \\n   \n",
      "4                                         3.84   \n",
      "5                                         6.88   \n",
      "6                                         2.87   \n",
      "7                                        \\n \\n   \n",
      "8                                         3.22   \n",
      "9                                         5.88   \n",
      "10                                        8.10   \n",
      "\n",
      "   \\n {E}_{{\\\\nu }_{x},\\\\mathrm{tot}}\\n  \n",
      "                             (1052 erg)  \n",
      "0                                  4.37  \n",
      "1                                  7.17  \n",
      "2                                  2.89  \n",
      "3                                 \\n \\n  \n",
      "4                                  3.94  \n",
      "5                                  6.36  \n",
      "6                                  2.11  \n",
      "7                                 \\n \\n  \n",
      "8                                  3.35  \n",
      "9                                  5.40  \n",
      "10                                 4.00  ,                        \\xc2\\xa0 SK-IV 2970 days SK-Gd 10 yr HK 3 yr HK 5 yr  \\\n",
      "0    Neutron tagging efficiency             30%         70%     30%     30%   \n",
      "1  Accidental background amount    \\xe2\\x8b\\xaf        ×0.1    same    same   \n",
      "2         NCQE uncertainty size             60%         42%     30%     20%   \n",
      "3     Non-NCQE uncertainty size             19%         14%     10%      8%   \n",
      "\n",
      "  HK 10 yr  \n",
      "0      30%  \n",
      "1     same  \n",
      "2      10%  \n",
      "3       5%  ]\n"
     ]
    }
   ],
   "source": [
    "print(tables)"
   ]
  },
  {
   "cell_type": "code",
   "execution_count": 6,
   "id": "343766cd-8827-40d6-9e01-0f75b88becba",
   "metadata": {},
   "outputs": [
    {
     "name": "stdout",
     "output_type": "stream",
     "text": [
      "   \\   x   c   2   \\   x   a   0       E   O   S  \\\n",
      "0                                        Togashi   \n",
      "1                                         xc2xa0   \n",
      "2                                         xc2xa0   \n",
      "3                                             nn   \n",
      "4                                          LS220   \n",
      "5                                         xc2xa0   \n",
      "6                                         xc2xa0   \n",
      "7                                             nn   \n",
      "8                                           Shen   \n",
      "9                                         xc2xa0   \n",
      "10                                        xc2xa0   \n",
      "\n",
      "   \\   x   c   2   \\   x   a   0       R   e   m   n   a   n   t  \\\n",
      "0                                     canonicalmassNS              \n",
      "1                                          highmassNS              \n",
      "2                                          BHFailedSN              \n",
      "3                                                  nn              \n",
      "4                                     canonicalmassNS              \n",
      "5                                          highmassNS              \n",
      "6                                          BHFailedSN              \n",
      "7                                                  nn              \n",
      "8                                     canonicalmassNS              \n",
      "9                                          highmassNS              \n",
      "10                                         BHFailedSN              \n",
      "\n",
      "   \\   n       M   N   S   ,   g   \\   n       (       M   \\   x   e   2   \\   x   8   a   \\   x   9   9   )  \\\n",
      "0                                                 132                                                          \n",
      "1                                                 163                                                          \n",
      "2                                           xe2x8bxaf                                                          \n",
      "3                                                  nn                                                          \n",
      "4                                                 134                                                          \n",
      "5                                                 165                                                          \n",
      "6                                           xe2x8bxaf                                                          \n",
      "7                                                  nn                                                          \n",
      "8                                                 135                                                          \n",
      "9                                                 167                                                          \n",
      "10                                          xe2x8bxaf                                                          \n",
      "\n",
      "   \\   n       R   N   S   \\   n       (   k   m   )  \\\n",
      "0                                                115   \n",
      "1                                                115   \n",
      "2                                          xe2x8bxaf   \n",
      "3                                                 nn   \n",
      "4                                                127   \n",
      "5                                                124   \n",
      "6                                          xe2x8bxaf   \n",
      "7                                                 nn   \n",
      "8                                                143   \n",
      "9                                                141   \n",
      "10                                         xe2x8bxaf   \n",
      "\n",
      "   \\   n       t   B   H   \\   n       (   s   e   c   )  \\\n",
      "0                                           xe2x8bxaf      \n",
      "1                                           xe2x8bxaf      \n",
      "2                                                0533      \n",
      "3                                                  nn      \n",
      "4                                           xe2x8bxaf      \n",
      "5                                           xe2x8bxaf      \n",
      "6                                                0342      \n",
      "7                                                  nn      \n",
      "8                                           xe2x8bxaf      \n",
      "9                                           xe2x8bxaf      \n",
      "10                                               0842      \n",
      "\n",
      "   \\   n       \\   \\   l   a   n   g   l   e       {   E   }   _   {   {   \\   \\   n   u       }   _   {   e   }   }   \\   \\   r   a   n   g   l   e   \\   n       (   M   e   V   )  \\\n",
      "0                                                  92                                                                                                                                  \n",
      "1                                                  95                                                                                                                                  \n",
      "2                                                 161                                                                                                                                  \n",
      "3                                                  nn                                                                                                                                  \n",
      "4                                                  91                                                                                                                                  \n",
      "5                                                  98                                                                                                                                  \n",
      "6                                                 125                                                                                                                                  \n",
      "7                                                  nn                                                                                                                                  \n",
      "8                                                  90                                                                                                                                  \n",
      "9                                                  96                                                                                                                                  \n",
      "10                                                175                                                                                                                                  \n",
      "\n",
      "   \\   n       \\   \\   l   a   n   g   l   e       {   E   }   _   {   {   \\   \\   b   a   r   {   \\   \\   n   u       }   }   _   {   e   }   }   \\   \\   r   a   n   g   l   e   \\   n       (   M   e   V   )  \\\n",
      "0                                                 109                                                                                                                                                              \n",
      "1                                                 112                                                                                                                                                              \n",
      "2                                                 204                                                                                                                                                              \n",
      "3                                                  nn                                                                                                                                                              \n",
      "4                                                 107                                                                                                                                                              \n",
      "5                                                 112                                                                                                                                                              \n",
      "6                                                 164                                                                                                                                                              \n",
      "7                                                  nn                                                                                                                                                              \n",
      "8                                                 106                                                                                                                                                              \n",
      "9                                                 112                                                                                                                                                              \n",
      "10                                                217                                                                                                                                                              \n",
      "\n",
      "   \\   n       \\   \\   l   a   n   g   l   e       {   E   }   _   {   {   \\   \\   n   u       }   _   {   x   }   }   \\   \\   r   a   n   g   l   e   \\   n       (   M   e   V   )  \\\n",
      "0                                                 118                                                                                                                                  \n",
      "1                                                 119                                                                                                                                  \n",
      "2                                                 234                                                                                                                                  \n",
      "3                                                  nn                                                                                                                                  \n",
      "4                                                 113                                                                                                                                  \n",
      "5                                                 112                                                                                                                                  \n",
      "6                                                 223                                                                                                                                  \n",
      "7                                                  nn                                                                                                                                  \n",
      "8                                                 113                                                                                                                                  \n",
      "9                                                 112                                                                                                                                  \n",
      "10                                                234                                                                                                                                  \n",
      "\n",
      "   \\   n       {   E   }   _   {   {   \\   \\   n   u       }   _   {   e   }   ,   \\   \\   m   a   t   h   r   m   {   t   o   t   }   }   \\   n       (   1   0   5   2       e   r   g   )  \\\n",
      "0                                                 447                                                                                                                                          \n",
      "1                                                 726                                                                                                                                          \n",
      "2                                                 685                                                                                                                                          \n",
      "3                                                  nn                                                                                                                                          \n",
      "4                                                 425                                                                                                                                          \n",
      "5                                                 729                                                                                                                                          \n",
      "6                                                 403                                                                                                                                          \n",
      "7                                                  nn                                                                                                                                          \n",
      "8                                                 365                                                                                                                                          \n",
      "9                                                 622                                                                                                                                          \n",
      "10                                                949                                                                                                                                          \n",
      "\n",
      "   \\   n       {   E   }   _   {   {   \\   \\   b   a   r   {   \\   \\   n   u       }   }   _   {   e   }   ,   \\   \\   m   a   t   h   r   m   {   t   o   t   }   }   \\   n       (   1   0   5   2       e   r   g   )  \\\n",
      "0                                                 407                                                                                                                                                                      \n",
      "1                                                 693                                                                                                                                                                      \n",
      "2                                                 533                                                                                                                                                                      \n",
      "3                                                  nn                                                                                                                                                                      \n",
      "4                                                 384                                                                                                                                                                      \n",
      "5                                                 688                                                                                                                                                                      \n",
      "6                                                 287                                                                                                                                                                      \n",
      "7                                                  nn                                                                                                                                                                      \n",
      "8                                                 322                                                                                                                                                                      \n",
      "9                                                 588                                                                                                                                                                      \n",
      "10                                                810                                                                                                                                                                      \n",
      "\n",
      "   \\   n       {   E   }   _   {   {   \\   \\   n   u       }   _   {   x   }   ,   \\   \\   m   a   t   h   r   m   {   t   o   t   }   }   \\   n       (   1   0   5   2       e   r   g   )  \n",
      "0                                                 437                                                                                                                                         \n",
      "1                                                 717                                                                                                                                         \n",
      "2                                                 289                                                                                                                                         \n",
      "3                                                  nn                                                                                                                                         \n",
      "4                                                 394                                                                                                                                         \n",
      "5                                                 636                                                                                                                                         \n",
      "6                                                 211                                                                                                                                         \n",
      "7                                                  nn                                                                                                                                         \n",
      "8                                                 335                                                                                                                                         \n",
      "9                                                 540                                                                                                                                         \n",
      "10                                                400                                                                                                                                         \n"
     ]
    },
    {
     "ename": "NameError",
     "evalue": "name 'stop' is not defined",
     "output_type": "error",
     "traceback": [
      "\u001b[0;31m---------------------------------------------------------------------------\u001b[0m",
      "\u001b[0;31mNameError\u001b[0m                                 Traceback (most recent call last)",
      "\u001b[0;32m/var/folders/hj/vgpx3js504l063vxjx2cgbdm0005ym/T/ipykernel_18928/2421597076.py\u001b[0m in \u001b[0;36m<module>\u001b[0;34m\u001b[0m\n\u001b[1;32m      2\u001b[0m     \u001b[0mdf\u001b[0m \u001b[0;34m=\u001b[0m \u001b[0mcleantable\u001b[0m\u001b[0;34m(\u001b[0m\u001b[0mt\u001b[0m\u001b[0;34m)\u001b[0m\u001b[0;34m\u001b[0m\u001b[0;34m\u001b[0m\u001b[0m\n\u001b[1;32m      3\u001b[0m     \u001b[0mprint\u001b[0m\u001b[0;34m(\u001b[0m\u001b[0mdf\u001b[0m\u001b[0;34m)\u001b[0m\u001b[0;34m\u001b[0m\u001b[0;34m\u001b[0m\u001b[0m\n\u001b[0;32m----> 4\u001b[0;31m     \u001b[0mstop\u001b[0m\u001b[0;34m\u001b[0m\u001b[0;34m\u001b[0m\u001b[0m\n\u001b[0m\u001b[1;32m      5\u001b[0m     \u001b[0;31m#question = 'are object names or ids mentioned? if yes what are they? give them in an array'\u001b[0m\u001b[0;34m\u001b[0m\u001b[0;34m\u001b[0m\u001b[0m\n\u001b[1;32m      6\u001b[0m     \u001b[0;31m#print(tqa(table=df, query=question))\u001b[0m\u001b[0;34m\u001b[0m\u001b[0;34m\u001b[0m\u001b[0m\n",
      "\u001b[0;31mNameError\u001b[0m: name 'stop' is not defined"
     ]
    }
   ],
   "source": [
    "for t in tables:\n",
    "    df = cleantable(t)\n",
    "    print(df)\n",
    "    stop\n",
    "    #question = 'are object names or ids mentioned? if yes what are they? give them in an array'\n",
    "    #print(tqa(table=df, query=question))"
   ]
  },
  {
   "cell_type": "code",
   "execution_count": 6,
   "id": "b38c5bc0-f07e-4fb6-942c-9661a9c86bdf",
   "metadata": {},
   "outputs": [
    {
     "name": "stdout",
     "output_type": "stream",
     "text": [
      "(35, 11)\n"
     ]
    }
   ],
   "source": [
    "a = df.values.tolist()\n",
    "print(np.shape(a))"
   ]
  },
  {
   "cell_type": "code",
   "execution_count": 4,
   "id": "ce800d63-a79f-4a88-97aa-cf5c6746f8ba",
   "metadata": {},
   "outputs": [
    {
     "name": "stderr",
     "output_type": "stream",
     "text": [
      "You are using the default legacy behaviour of the <class 'transformers.models.t5.tokenization_t5.T5Tokenizer'>. This is expected, and simply means that the `legacy` (previous) behavior will be used so nothing changes for you. If you want to use the new behaviour, set `legacy=False`. This should only be set if you understand what it means, and thouroughly read the reason why this was added as explained in https://github.com/huggingface/transformers/pull/24565\n"
     ]
    },
    {
     "data": {
      "application/vnd.jupyter.widget-view+json": {
       "model_id": "3ba49beb48d1473eb601620c18c5b448",
       "version_major": 2,
       "version_minor": 0
      },
      "text/plain": [
       "Downloading model.safetensors:   0%|          | 0.00/990M [00:00<?, ?B/s]"
      ]
     },
     "metadata": {},
     "output_type": "display_data"
    },
    {
     "data": {
      "application/vnd.jupyter.widget-view+json": {
       "model_id": "a046d2c7122a476096fb32b219504545",
       "version_major": 2,
       "version_minor": 0
      },
      "text/plain": [
       "Downloading (…)neration_config.json:   0%|          | 0.00/147 [00:00<?, ?B/s]"
      ]
     },
     "metadata": {},
     "output_type": "display_data"
    }
   ],
   "source": [
    "from transformers import T5Tokenizer, T5ForConditionalGeneration\n",
    "\n",
    "tokenizer = T5Tokenizer.from_pretrained(\"google/flan-t5-base\")\n",
    "model = T5ForConditionalGeneration.from_pretrained(\"google/flan-t5-base\")"
   ]
  },
  {
   "cell_type": "code",
   "execution_count": 16,
   "id": "24630e2a-7ba2-4397-a093-08c2f4792dc2",
   "metadata": {},
   "outputs": [
    {
     "name": "stdout",
     "output_type": "stream",
     "text": [
      "tensor([[    0,    33,   132,  3735,     3,    23,    26,     7,    16,     8,\n",
      "           953,    28,     8,   826, 15752,    10,     1]])\n",
      "<pad> are there object ids in the table with the following columns:</s>\n"
     ]
    }
   ],
   "source": [
    "input_text = 'are there object ids in a table with the following columns:'+str(df.columns)\n",
    "input_ids = tokenizer(input_text, return_tensors=\"pt\").input_ids\n",
    "\n",
    "outputs = model.generate(input_ids)\n",
    "print(outputs)\n",
    "print(tokenizer.decode(outputs[0]))"
   ]
  },
  {
   "cell_type": "code",
   "execution_count": 27,
   "id": "dc9d21ae-61b4-451a-87b5-2fa5b6798e89",
   "metadata": {},
   "outputs": [
    {
     "data": {
      "application/vnd.jupyter.widget-view+json": {
       "model_id": "454db90a512a4e9792712765d1edc676",
       "version_major": 2,
       "version_minor": 0
      },
      "text/plain": [
       "Downloading:   0%|          | 0.00/18.2k [00:00<?, ?B/s]"
      ]
     },
     "metadata": {},
     "output_type": "display_data"
    },
    {
     "data": {
      "text/plain": [
       "[{'score': 0.7181697487831116, 'start': 0, 'end': 0, 'answer': ''},\n",
       " {'score': 9.344970749225467e-05,\n",
       "  'start': 136,\n",
       "  'end': 149,\n",
       "  'answer': \"S/N (F435W)',\"},\n",
       " {'score': 4.46161357103847e-05,\n",
       "  'start': 136,\n",
       "  'end': 149,\n",
       "  'answer': \"S/N (F435W)',\"},\n",
       " {'score': 4.420016921358183e-05,\n",
       "  'start': 8,\n",
       "  'end': 19,\n",
       "  'answer': 'ID \\\\xc2\\\\xa0'},\n",
       " {'score': 3.8521822716575116e-05,\n",
       "  'start': 135,\n",
       "  'end': 149,\n",
       "  'answer': \"'S/N (F435W)',\"}]"
      ]
     },
     "execution_count": 27,
     "metadata": {},
     "output_type": "execute_result"
    }
   ],
   "source": [
    "oracle = pipeline(model=\"deepset/roberta-base-squad2\")\n",
    "oracle(question=\"What are the column names\", context=str(df.columns),topk=5,handle_impossible_answer=True)"
   ]
  },
  {
   "cell_type": "code",
   "execution_count": 11,
   "id": "3d4ffe37-3616-4d92-96eb-dfaafe9533ca",
   "metadata": {},
   "outputs": [
    {
     "name": "stdout",
     "output_type": "stream",
     "text": [
      "are there object ids in a table with the following columnsIndex(['ID \\xc2\\xa0', 'Isophotal\\n a\\n \\n Area (pixels)',\n",
      "       '\\n mF336W\\n \\xc2\\xa0', 'S/N (F336W)', '\\n mF435W\\n \\xc2\\xa0',\n",
      "       'S/N (F435W)', '\\n mF435W\\n \\n b\\n \\n (HSC Match)',\n",
      "       '\\n mF606W\\n \\xc2\\xa0', 'S/N (F606W)', '\\n mF814W\\n \\xc2\\xa0',\n",
      "       'S/N (F814W)'],\n",
      "      dtype='object')\n"
     ]
    }
   ],
   "source": [
    "print(input_text)"
   ]
  },
  {
   "cell_type": "code",
   "execution_count": null,
   "id": "3dbdfca3-d69d-45e6-aa04-6ca46bcad814",
   "metadata": {},
   "outputs": [],
   "source": []
  },
  {
   "cell_type": "code",
   "execution_count": null,
   "id": "62e258ed-9d35-4b5d-8f96-33df3b868691",
   "metadata": {},
   "outputs": [],
   "source": []
  }
 ],
 "metadata": {
  "kernelspec": {
   "display_name": "Python 3 (ipykernel)",
   "language": "python",
   "name": "python3"
  },
  "language_info": {
   "codemirror_mode": {
    "name": "ipython",
    "version": 3
   },
   "file_extension": ".py",
   "mimetype": "text/x-python",
   "name": "python",
   "nbconvert_exporter": "python",
   "pygments_lexer": "ipython3",
   "version": "3.9.17"
  }
 },
 "nbformat": 4,
 "nbformat_minor": 5
}
