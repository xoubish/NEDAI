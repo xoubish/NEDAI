{
 "cells": [
  {
   "cell_type": "code",
   "execution_count": null,
   "id": "f4b72410-a649-4d67-9980-89f39131f611",
   "metadata": {
    "tags": []
   },
   "outputs": [],
   "source": [
    "from datasets import load_dataset\n",
    "from transformers import (\n",
    "    AutoModelForTokenClassification,\n",
    "    AutoTokenizer,\n",
    "    DataCollatorForTokenClassification,\n",
    "    TrainingArguments,\n",
    "    Trainer,\n",
    ")\n",
    "from peft import get_peft_config, PeftModel, PeftConfig, get_peft_model, LoraConfig, TaskType\n",
    "import evaluate\n",
    "import torch\n",
    "import numpy as np\n",
    "\n",
    "seqeval = evaluate.load(\"seqeval\")\n",
    "\n",
    "def compute_metrics(p):\n",
    "    predictions, labels = p\n",
    "    predictions = np.argmax(predictions, axis=2)\n",
    "\n",
    "    true_predictions = [\n",
    "        [label_list[p] for (p, l) in zip(prediction, label) if l != -100]\n",
    "        for prediction, label in zip(predictions, labels)\n",
    "    ]\n",
    "    true_labels = [\n",
    "        [label_list[l] for (p, l) in zip(prediction, label) if l != -100]\n",
    "        for prediction, label in zip(predictions, labels)\n",
    "    ]\n",
    "\n",
    "    results = seqeval.compute(predictions=true_predictions, references=true_labels)\n",
    "    return {\n",
    "        \"precision\": results[\"overall_precision\"],\n",
    "        \"recall\": results[\"overall_recall\"],\n",
    "        \"f1\": results[\"overall_f1\"],\n",
    "        \"accuracy\": results[\"overall_accuracy\"],\n",
    "    }\n",
    "model_checkpoint = \"adsabs/astroBERT\"\n",
    "lr = 1e-3\n",
    "batch_size = 16\n",
    "num_epochs = 10\n",
    "\n"
   ]
  },
  {
   "cell_type": "code",
   "execution_count": null,
   "id": "d6fa076a-ded7-4897-a32d-1e9aa515bb5f",
   "metadata": {
    "tags": []
   },
   "outputs": [],
   "source": [
    "def process_sample(batch):\n",
    "    tokens_list = []\n",
    "    tags_list = []\n",
    "    tokens = []\n",
    "    tags = []\n",
    "    \n",
    "    for line in batch['text']:\n",
    "        if line:  # non-empty line means we have a token-tag pair\n",
    "            token, tag = line.split()  # assuming space is the delimiter\n",
    "            tokens.append(token)\n",
    "            tags.append(tag)\n",
    "        else:  # empty line means end of sentence\n",
    "            tokens_list.append(tokens)\n",
    "            tags_list.append(tags)\n",
    "            tokens = []\n",
    "            tags = []\n",
    "    \n",
    "    # Add remaining tokens and tags if there's any\n",
    "    if tokens:\n",
    "        tokens_list.append(tokens)\n",
    "        tags_list.append(tags)\n",
    "    \n",
    "    return {'tokens': tokens_list, 'tags': tags_list}\n",
    "    \n",
    "\n",
    "data_files = {\n",
    "    'train': 'data/filtered_train.txt',\n",
    "    'validation': 'data/filtered_val.txt',\n",
    "    'test': 'data/filtered_test.txt'\n",
    "}\n",
    "\n",
    "# Load the dataset from local files without specifying a script\n",
    "dataset = load_dataset('text', data_files=data_files)\n",
    "pdataset = dataset.map(process_sample, batched=True, remove_columns=['text'])\n"
   ]
  },
  {
   "cell_type": "code",
   "execution_count": null,
   "id": "7cfefbf8-9e17-43b4-9ce4-51f7fb19e26a",
   "metadata": {
    "tags": []
   },
   "outputs": [],
   "source": [
    "tokenizer = AutoTokenizer.from_pretrained(model_checkpoint, add_prefix_space=True)\n",
    "data_collator = DataCollatorForTokenClassification(tokenizer=tokenizer)\n",
    "\n",
    "def recursive_label2id_conversion(label, label2id):\n",
    "    if isinstance(label, str):\n",
    "        return label2id[label]\n",
    "    elif isinstance(label, list):\n",
    "        return [recursive_label2id_conversion(l, label2id) for l in label]\n",
    "    else:\n",
    "        raise ValueError(\"Unsupported label type\")\n",
    "        \n",
    "def tokenize_and_align_labels2(examples, label2id):\n",
    "    tokenized_inputs = tokenizer(examples[\"tokens\"], truncation=True, is_split_into_words=True)\n",
    "\n",
    "    labels = []\n",
    "    for i, label in enumerate(examples[f\"tags\"]):\n",
    "        converted_label = recursive_label2id_conversion(label, label2id)\n",
    "\n",
    "        word_ids = tokenized_inputs.word_ids(batch_index=i)\n",
    "        previous_word_idx = None\n",
    "        label_ids = []\n",
    "        for word_idx in word_ids:\n",
    "            if word_idx is None:\n",
    "                label_ids.append(-100)\n",
    "            elif word_idx != previous_word_idx:\n",
    "                label_ids.append(converted_label[word_idx])\n",
    "            else:\n",
    "                label_ids.append(-100)\n",
    "            previous_word_idx = word_idx\n",
    "        labels.append(label_ids)\n",
    "\n",
    "    tokenized_inputs[\"labels\"] = labels\n",
    "    return tokenized_inputs\n"
   ]
  },
  {
   "cell_type": "code",
   "execution_count": null,
   "id": "ac3f239c-c428-4804-a43d-166b42f18a79",
   "metadata": {
    "tags": []
   },
   "outputs": [],
   "source": [
    "id2label = {\n",
    "    0: \"O\",\n",
    "    1: \"B-ap_name1\",\n",
    "    2: \"I-ap_name1\",\n",
    "    3: \"B-vz1\",\n",
    "    4: \"I-vz1\",\n",
    "    5: \"B-coordx1\",\n",
    "    6: \"I-coordx1\",\n",
    "    7: \"B-coordy1\",\n",
    "    8: \"I-coordy1\",\n",
    "    9: \"B-type1\",\n",
    "    10: \"I-type1\",\n",
    "}\n",
    "label2id = {\"O\": 0,\n",
    "          \"B-ap_name1\": 1,\n",
    "          \"I-ap_name1\": 2,\n",
    "          \"B-vz1\": 3,\n",
    "          \"I-vz1\": 4,\n",
    "          \"B-coordx1\": 5,\n",
    "          \"I-coordx1\": 6,\n",
    "          \"B-coordy1\": 7,\n",
    "          \"I-coordy1\": 8,\n",
    "          \"B-type1\": 9,\n",
    "          \"I-type1\": 10,\n",
    "         }\n",
    "\n",
    "tokenized_datap = pdataset.map(tokenize_and_align_labels2, batched=True, fn_kwargs={\"label2id\": label2id})"
   ]
  },
  {
   "cell_type": "code",
   "execution_count": null,
   "id": "bc42d945-2d7e-4902-9c21-bdb1e1a348fe",
   "metadata": {
    "tags": []
   },
   "outputs": [],
   "source": [
    "model = AutoModelForTokenClassification.from_pretrained(\n",
    "    model_checkpoint, num_labels=11, id2label=id2label, label2id=label2id\n",
    ")"
   ]
  },
  {
   "cell_type": "code",
   "execution_count": null,
   "id": "1b1e5d72-c275-4592-b4a7-15973fbe4fbe",
   "metadata": {
    "tags": []
   },
   "outputs": [],
   "source": [
    "peft_config = LoraConfig(\n",
    "    task_type=TaskType.TOKEN_CLS, inference_mode=False, r=16, lora_alpha=16, lora_dropout=0.1, bias=\"all\"\n",
    ")\n",
    "\n",
    "model = get_peft_model(model, peft_config)\n",
    "model.print_trainable_parameters()"
   ]
  },
  {
   "cell_type": "code",
   "execution_count": null,
   "id": "6a61fa16-a453-4f7f-8385-edbdf99b8823",
   "metadata": {
    "tags": []
   },
   "outputs": [],
   "source": [
    "import torch\n",
    "print(\"Using device:\", torch.device(\"cuda\" if torch.cuda.is_available() else \"cpu\"))\n",
    "\n",
    "#automatically checks for GPU\n",
    "training_args = TrainingArguments(\n",
    "    output_dir=\"roberta-large-lora-token-classification\",\n",
    "    learning_rate=lr,\n",
    "    per_device_train_batch_size=batch_size,\n",
    "    per_device_eval_batch_size=batch_size,\n",
    "    num_train_epochs=num_epochs,\n",
    "    weight_decay=0.01,\n",
    "    evaluation_strategy=\"epoch\",\n",
    "    save_strategy=\"epoch\",\n",
    "    load_best_model_at_end=True,\n",
    ")"
   ]
  },
  {
   "cell_type": "code",
   "execution_count": null,
   "id": "308300bd-2a08-4dd6-a95a-7f89a8513169",
   "metadata": {
    "tags": []
   },
   "outputs": [],
   "source": [
    "trainer = Trainer(\n",
    "    model=model,\n",
    "    args=training_args,\n",
    "    train_dataset=tokenized_datap[\"train\"],\n",
    "    eval_dataset=tokenized_datap[\"validation\"],\n",
    "    tokenizer=tokenizer,\n",
    "    data_collator=data_collator,\n",
    "    compute_metrics=compute_metrics,\n",
    ")"
   ]
  },
  {
   "cell_type": "code",
   "execution_count": null,
   "id": "a3fef74e-89d4-4b4d-9844-c3278f32a968",
   "metadata": {
    "tags": []
   },
   "outputs": [],
   "source": [
    "trainer.train()\n"
   ]
  },
  {
   "cell_type": "code",
   "execution_count": null,
   "id": "f602f1c5-debb-473a-ac75-9bfccc2eb08c",
   "metadata": {},
   "outputs": [],
   "source": []
  }
 ],
 "metadata": {
  "kernelspec": {
   "display_name": "Python 3 (ipykernel)",
   "language": "python",
   "name": "python3"
  },
  "language_info": {
   "codemirror_mode": {
    "name": "ipython",
    "version": 3
   },
   "file_extension": ".py",
   "mimetype": "text/x-python",
   "name": "python",
   "nbconvert_exporter": "python",
   "pygments_lexer": "ipython3",
   "version": "3.7.3"
  }
 },
 "nbformat": 4,
 "nbformat_minor": 5
}
