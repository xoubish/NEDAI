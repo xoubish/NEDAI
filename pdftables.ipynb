{
 "cells": [
  {
   "cell_type": "markdown",
   "id": "59d1b48a-eb75-467d-aa1e-be434b5dc802",
   "metadata": {},
   "source": [
    "# To extract tables from arxiv PDFs with img2table\n",
    "Started: Oct 9th- Last edit: Oct 11th\n",
    "By Shooby"
   ]
  },
  {
   "cell_type": "code",
   "execution_count": 1,
   "id": "44e5b06a-94ff-4e97-8579-4ea2bd63e552",
   "metadata": {
    "tags": []
   },
   "outputs": [],
   "source": [
    "from img2table.document import PDF\n",
    "from img2table.ocr import TesseractOCR\n",
    "#from img2table.ocr import EasyOCR\n",
    "import pandas as pd\n",
    "import os\n"
   ]
  },
  {
   "cell_type": "code",
   "execution_count": 2,
   "id": "97ae5897-6697-4691-935e-edcb9e50e313",
   "metadata": {
    "tags": []
   },
   "outputs": [],
   "source": [
    "def remove_enter_row(row):\n",
    "    ''' This module is a preprocessing to further split the table \n",
    "    if there are \\n left in the data'''\n",
    "    \n",
    "    try:\n",
    "        numenters = row.values[0].count('\\n')\n",
    "        for i in range(numenters):\n",
    "            new_row = row.copy()\n",
    "            for col, value in row.items():\n",
    "                split_values = value.split('\\n')\n",
    "                new_row[col] = split_values[1]\n",
    "                row[col]=split_values[0]\n",
    "        return[row,new_row]\n",
    "    except:\n",
    "        return [row]\n",
    "        \n",
    "def remove_character(string, character):\n",
    "  if character not in string:\n",
    "    return string\n",
    "  return string.replace(character, \"\")\n",
    "    \n",
    "def cleansave(extracted_tables,dir):\n",
    "    for page, tables in extracted_tables.items():\n",
    "        for idx, table in enumerate(tables):\n",
    "            print('-----------------------------------------------------------------------')\n",
    "            print('Title:'+str(table.title))\n",
    "            if table.title:\n",
    "                t = table.title\n",
    "                if ' ' in t:\n",
    "                    t = t.replace(' ','_')\n",
    "                t = remove_character(t,'.')\n",
    "                t = remove_character(t,\"\\\\\")\n",
    "                t = remove_character(t,\"/\")\n",
    "                t = remove_character(t,\",\")\n",
    "                tablename = t+'.csv'\n",
    "            else:\n",
    "                tablename = 'table'+str(idx)+'_page'+str(page)+'.csv'\n",
    "            tb = table.df\n",
    "            processed_rows = [remove_enter_row(row) for index, row in tb.iterrows()]\n",
    "            flattened_rows = [item for sublist in processed_rows for item in sublist]\n",
    "            result_df = pd.DataFrame(flattened_rows, columns=tb.columns)\n",
    "            dfp = result_df.fillna('-')\n",
    "            dfp.to_csv(dir+'/'+tablename, index=False)\n",
    "            print('-----------------------------------------------------------------------')\n",
    "\n",
    "\n",
    "def pdf2csv(pdffile):\n",
    "    pdf = PDF(src=pdffile)\n",
    "    ocr = TesseractOCR(lang=\"eng\")\n",
    "    #easyocr = EasyOCR(lang=[\"en\"])\n",
    "    extracted_tables = pdf.extract_tables(ocr=ocr,\n",
    "                                          implicit_rows=True,\n",
    "                                          borderless_tables=False,\n",
    "                                          min_confidence=80)\n",
    "    dirname = pdffile.replace('.pdf','_tables')\n",
    "    if not os.path.exists(dirname):\n",
    "        os.makedirs(dirname)\n",
    "        \n",
    "    cleansave(extracted_tables,dirname)"
   ]
  },
  {
   "cell_type": "code",
   "execution_count": 3,
   "id": "0e431118-8f34-42a6-a2a9-fefbfcb2ba47",
   "metadata": {
    "tags": []
   },
   "outputs": [
    {
     "name": "stdout",
     "output_type": "stream",
     "text": [
      "tesseract 5.3.3\n",
      " leptonica-1.83.1\n",
      "  libgif 5.2.1 : libjpeg 8d (libjpeg-turbo 3.0.0) : libpng 1.6.40 : libtiff 4.6.0 : zlib 1.2.11 : libwebp 1.3.2 : libopenjp2 2.5.0\n",
      " Found AVX512BW\n",
      " Found AVX512F\n",
      " Found AVX512VNNI\n",
      " Found AVX2\n",
      " Found AVX\n",
      " Found FMA\n",
      " Found SSE4.1\n",
      " Found libarchive 3.7.2 zlib/1.2.11 liblzma/5.4.4 bz2lib/1.0.8 liblz4/1.9.4 libzstd/1.5.5\n",
      " Found libcurl/7.79.1 SecureTransport (LibreSSL/3.3.6) zlib/1.2.11 nghttp2/1.45.1\n",
      "-----------------------------------------------------------------------\n",
      "Title:Table 1. HST image properties and contamination probabilities in the LyC ﬁlters (F336W or F435W).\n",
      "-----------------------------------------------------------------------\n",
      "-----------------------------------------------------------------------\n",
      "Title:stacking tools10. We extract each PSF and interpolate\n",
      "Table\n",
      "2.\n",
      "Relevant astrodriz-\n",
      "zle parameters for making the new\n",
      "them onto a sub-pixel grid. The PSFs are ﬁtted with\n",
      "F336W and F435W images.\n",
      "Moﬀat proﬁles, checked for quality, aligned, and the\n",
      "-----------------------------------------------------------------------\n",
      "-----------------------------------------------------------------------\n",
      "Title:Table 3. Summary of spectroscopic follow-up campaigns related to or part of this program.\n",
      "-----------------------------------------------------------------------\n",
      "-----------------------------------------------------------------------\n",
      "Title:Table 4. LyC and UV continuum ﬂuxes and escape fraction parameters for the Group A candidates.\n",
      "-----------------------------------------------------------------------\n",
      "-----------------------------------------------------------------------\n",
      "Title:Table 5. LCG candidate IDs, coordinates, assigned groups, LyC band and limit, and redshifts.\n",
      "-----------------------------------------------------------------------\n",
      "-----------------------------------------------------------------------\n",
      "Title:Table 6. LCG candidate isophotal area, isophotal magnitude, and signal-to-noise (S/N) values.\n",
      "-----------------------------------------------------------------------\n"
     ]
    }
   ],
   "source": [
    "pdf2csv('2110.06945.pdf')"
   ]
  },
  {
   "cell_type": "code",
   "execution_count": null,
   "id": "b87fc867-725d-4696-b966-0e787bebc8da",
   "metadata": {},
   "outputs": [],
   "source": []
  }
 ],
 "metadata": {
  "kernelspec": {
   "display_name": "Python 3 (ipykernel)",
   "language": "python",
   "name": "python3"
  },
  "language_info": {
   "codemirror_mode": {
    "name": "ipython",
    "version": 3
   },
   "file_extension": ".py",
   "mimetype": "text/x-python",
   "name": "python",
   "nbconvert_exporter": "python",
   "pygments_lexer": "ipython3",
   "version": "3.9.17"
  }
 },
 "nbformat": 4,
 "nbformat_minor": 5
}
