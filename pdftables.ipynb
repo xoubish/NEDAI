{
 "cells": [
  {
   "cell_type": "markdown",
   "id": "59d1b48a-eb75-467d-aa1e-be434b5dc802",
   "metadata": {},
   "source": [
    "# To extract tables from arxiv PDFs\n",
    "Started: Oct 9th- Last edit: Oct 11th\n",
    "By Shooby"
   ]
  },
  {
   "cell_type": "code",
   "execution_count": 1,
   "id": "44e5b06a-94ff-4e97-8579-4ea2bd63e552",
   "metadata": {
    "tags": []
   },
   "outputs": [],
   "source": [
    "from img2table.document import PDF\n",
    "from img2table.ocr import TesseractOCR\n",
    "#from img2table.ocr import EasyOCR\n",
    "import pandas as pd\n",
    "import os\n"
   ]
  },
  {
   "cell_type": "code",
   "execution_count": 2,
   "id": "97ae5897-6697-4691-935e-edcb9e50e313",
   "metadata": {
    "tags": []
   },
   "outputs": [],
   "source": [
    "def remove_enter_row(row):\n",
    "    ''' This module is a preprocessing to further split the table \n",
    "    if there are \\n left in the data'''\n",
    "    \n",
    "    try:\n",
    "        numenters = row.values[0].count('\\n')\n",
    "        for i in range(numenters):\n",
    "            new_row = row.copy()\n",
    "            for col, value in row.items():\n",
    "                split_values = value.split('\\n')\n",
    "                new_row[col] = split_values[1]\n",
    "                row[col]=split_values[0]\n",
    "        return[row,new_row]\n",
    "    except:\n",
    "        return [row]\n",
    "        \n",
    "def remove_character(string, character):\n",
    "  if character not in string:\n",
    "    return string\n",
    "  return string.replace(character, \"\")\n",
    "    \n",
    "def cleansave(extracted_tables,dir):\n",
    "    for page, tables in extracted_tables.items():\n",
    "        for idx, table in enumerate(tables):\n",
    "            print('-----------------------------------------------------------------------')\n",
    "            print('Title:'+str(table.title))\n",
    "            if table.title:\n",
    "                t = table.title\n",
    "                if ' ' in t:\n",
    "                    t = t.replace(' ','_')\n",
    "                t = remove_character(t,'.')\n",
    "                t = remove_character(t,\"\\\\\")\n",
    "                t = remove_character(t,\"/\")\n",
    "                t = remove_character(t,\",\")\n",
    "                tablename = t+'.csv'\n",
    "            else:\n",
    "                tablename = 'table'+str(idx)+'_page'+str(page)+'.csv'\n",
    "            tb = table.df\n",
    "            processed_rows = [remove_enter_row(row) for index, row in tb.iterrows()]\n",
    "            flattened_rows = [item for sublist in processed_rows for item in sublist]\n",
    "            result_df = pd.DataFrame(flattened_rows, columns=tb.columns)\n",
    "            dfp = result_df.fillna('-')\n",
    "            dfp.to_csv(dir+'/'+tablename, index=False)\n",
    "            print('-----------------------------------------------------------------------')\n",
    "\n",
    "\n",
    "def pdf2csv(pdffile):\n",
    "    pdf = PDF(src=pdffile)\n",
    "    ocr = TesseractOCR(lang=\"eng\")\n",
    "    #easyocr = EasyOCR(lang=[\"en\"])\n",
    "    extracted_tables = pdf.extract_tables(ocr=ocr,\n",
    "                                          implicit_rows=True,\n",
    "                                          borderless_tables=False,\n",
    "                                          min_confidence=80)\n",
    "    dirname = pdffile.replace('.pdf','_tables')\n",
    "    if not os.path.exists(dirname):\n",
    "        os.makedirs(dirname)\n",
    "        \n",
    "    cleansave(extracted_tables,dirname)"
   ]
  },
  {
   "cell_type": "code",
   "execution_count": 3,
   "id": "0e431118-8f34-42a6-a2a9-fefbfcb2ba47",
   "metadata": {
    "tags": []
   },
   "outputs": [
    {
     "name": "stderr",
     "output_type": "stream",
     "text": [
      "/bin/sh: 1: tesseract: not found\n"
     ]
    },
    {
     "ename": "OSError",
     "evalue": "Tesseract not found in environment. Check variables and PATH",
     "output_type": "error",
     "traceback": [
      "\u001b[0;31m---------------------------------------------------------------------------\u001b[0m",
      "\u001b[0;31mOSError\u001b[0m                                   Traceback (most recent call last)",
      "Cell \u001b[0;32mIn[3], line 1\u001b[0m\n\u001b[0;32m----> 1\u001b[0m pdf2csv(\u001b[38;5;124m'\u001b[39m\u001b[38;5;124m2110.06945.pdf\u001b[39m\u001b[38;5;124m'\u001b[39m)\n",
      "Cell \u001b[0;32mIn[2], line 49\u001b[0m, in \u001b[0;36mpdf2csv\u001b[0;34m(pdffile)\u001b[0m\n\u001b[1;32m     47\u001b[0m \u001b[38;5;28;01mdef\u001b[39;00m \u001b[38;5;21mpdf2csv\u001b[39m(pdffile):\n\u001b[1;32m     48\u001b[0m     pdf \u001b[38;5;241m=\u001b[39m PDF(src\u001b[38;5;241m=\u001b[39mpdffile)\n\u001b[0;32m---> 49\u001b[0m     ocr \u001b[38;5;241m=\u001b[39m TesseractOCR(lang\u001b[38;5;241m=\u001b[39m\u001b[38;5;124m\"\u001b[39m\u001b[38;5;124meng\u001b[39m\u001b[38;5;124m\"\u001b[39m)\n\u001b[1;32m     50\u001b[0m     \u001b[38;5;66;03m#easyocr = EasyOCR(lang=[\"en\"])\u001b[39;00m\n\u001b[1;32m     51\u001b[0m     extracted_tables \u001b[38;5;241m=\u001b[39m pdf\u001b[38;5;241m.\u001b[39mextract_tables(ocr\u001b[38;5;241m=\u001b[39mocr,\n\u001b[1;32m     52\u001b[0m                                           implicit_rows\u001b[38;5;241m=\u001b[39m\u001b[38;5;28;01mTrue\u001b[39;00m,\n\u001b[1;32m     53\u001b[0m                                           borderless_tables\u001b[38;5;241m=\u001b[39m\u001b[38;5;28;01mFalse\u001b[39;00m,\n\u001b[1;32m     54\u001b[0m                                           min_confidence\u001b[38;5;241m=\u001b[39m\u001b[38;5;241m80\u001b[39m)\n",
      "File \u001b[0;32m~/anaconda3/lib/python3.11/site-packages/img2table/ocr/tesseract.py:56\u001b[0m, in \u001b[0;36mTesseractOCR.__init__\u001b[0;34m(self, n_threads, lang, psm, tessdata_dir)\u001b[0m\n\u001b[1;32m     54\u001b[0m cmd_tess \u001b[38;5;241m=\u001b[39m subprocess\u001b[38;5;241m.\u001b[39mrun(\u001b[38;5;124m\"\u001b[39m\u001b[38;5;124mtesseract --version\u001b[39m\u001b[38;5;124m\"\u001b[39m, env\u001b[38;5;241m=\u001b[39m\u001b[38;5;28mself\u001b[39m\u001b[38;5;241m.\u001b[39menv, shell\u001b[38;5;241m=\u001b[39m\u001b[38;5;28;01mTrue\u001b[39;00m)\n\u001b[1;32m     55\u001b[0m \u001b[38;5;28;01mif\u001b[39;00m cmd_tess\u001b[38;5;241m.\u001b[39mreturncode \u001b[38;5;241m!=\u001b[39m \u001b[38;5;241m0\u001b[39m:\n\u001b[0;32m---> 56\u001b[0m     \u001b[38;5;28;01mraise\u001b[39;00m \u001b[38;5;167;01mEnvironmentError\u001b[39;00m(\u001b[38;5;124m\"\u001b[39m\u001b[38;5;124mTesseract not found in environment. Check variables and PATH\u001b[39m\u001b[38;5;124m\"\u001b[39m)\n\u001b[1;32m     58\u001b[0m \u001b[38;5;66;03m# Check if requested languages are available\u001b[39;00m\n\u001b[1;32m     59\u001b[0m \u001b[38;5;28;01mtry\u001b[39;00m:\n",
      "\u001b[0;31mOSError\u001b[0m: Tesseract not found in environment. Check variables and PATH"
     ]
    }
   ],
   "source": [
    "pdf2csv('2110.06945.pdf')"
   ]
  },
  {
   "cell_type": "code",
   "execution_count": null,
   "id": "b87fc867-725d-4696-b966-0e787bebc8da",
   "metadata": {},
   "outputs": [],
   "source": []
  },
  {
   "cell_type": "code",
   "execution_count": null,
   "id": "f555b85e-ed47-4de4-a975-f37a04cda76f",
   "metadata": {},
   "outputs": [],
   "source": []
  },
  {
   "cell_type": "code",
   "execution_count": null,
   "id": "889eddcb-8558-4e91-b86d-3b89ac07126c",
   "metadata": {},
   "outputs": [],
   "source": []
  },
  {
   "cell_type": "code",
   "execution_count": null,
   "id": "56bebf20-ae29-4abb-8f5e-1a190f360167",
   "metadata": {},
   "outputs": [],
   "source": [
    "pdf = PDF(src='20')\n",
    "ocr = TesseractOCR(lang=\"eng\")\n",
    "extracted_tables = pdf.extract_tables(ocr=easyocr,implicit_rows=True,borderless_tables=False,min_confidence=30)\n",
    "for page, tables in extracted_tables.items():\n",
    "    for idx, table in enumerate(tables):\n",
    "        print(table)\n"
   ]
  },
  {
   "cell_type": "code",
   "execution_count": null,
   "id": "8e35abc5-938d-4f3d-b477-d4610e921b8d",
   "metadata": {},
   "outputs": [],
   "source": []
  }
 ],
 "metadata": {
  "kernelspec": {
   "display_name": "Python 3 (ipykernel)",
   "language": "python",
   "name": "python3"
  },
  "language_info": {
   "codemirror_mode": {
    "name": "ipython",
    "version": 3
   },
   "file_extension": ".py",
   "mimetype": "text/x-python",
   "name": "python",
   "nbconvert_exporter": "python",
   "pygments_lexer": "ipython3",
   "version": "3.11.3"
  }
 },
 "nbformat": 4,
 "nbformat_minor": 5
}
