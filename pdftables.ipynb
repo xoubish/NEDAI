{
 "cells": [
  {
   "cell_type": "markdown",
   "id": "59d1b48a-eb75-467d-aa1e-be434b5dc802",
   "metadata": {},
   "source": [
    "# To extract tables from arxiv PDFs\n",
    "Started: Oct 9th- Last edit: Oct 10th\n",
    "By Shooby"
   ]
  },
  {
   "cell_type": "code",
   "execution_count": 1,
   "id": "44e5b06a-94ff-4e97-8579-4ea2bd63e552",
   "metadata": {},
   "outputs": [],
   "source": [
    "from img2table.document import PDF\n",
    "from img2table.ocr import TesseractOCR\n",
    "from img2table.ocr import EasyOCR\n",
    "import pandas as pd\n",
    "import os\n",
    "easyocr = EasyOCR(lang=[\"en\"])\n"
   ]
  },
  {
   "cell_type": "code",
   "execution_count": 2,
   "id": "97ae5897-6697-4691-935e-edcb9e50e313",
   "metadata": {},
   "outputs": [],
   "source": [
    "def remove_enter_row(row):\n",
    "    ''' This module is a preprocessing to further split the table \n",
    "    if there are \\n left in the data'''\n",
    "    \n",
    "    try:\n",
    "        numenters = row.values[0].count('\\n')\n",
    "        for i in range(numenters):\n",
    "            new_row = row.copy()\n",
    "            for col, value in row.items():\n",
    "                split_values = value.split('\\n')\n",
    "                new_row[col] = split_values[1]\n",
    "                row[col]=split_values[0]\n",
    "        return[row,new_row]\n",
    "    except:\n",
    "        return [row]\n",
    "        \n",
    "def remove_character(string, character):\n",
    "  if character not in string:\n",
    "    return string\n",
    "  return string.replace(character, \"\")\n",
    "    \n",
    "def cleansave(extracted_tables,dir):\n",
    "    for page, tables in extracted_tables.items():\n",
    "        for idx, table in enumerate(tables):\n",
    "            print('-----------------------------------------------------------------------')\n",
    "            print('Title:'+str(table.title))\n",
    "            if table.title:\n",
    "                t = table.title\n",
    "                if ' ' in t:\n",
    "                    t = t.replace(' ','_')\n",
    "                t = remove_character(t,'.')\n",
    "                t = remove_character(t,\"\\\\\")\n",
    "                t = remove_character(t,\"/\")\n",
    "                t = remove_character(t,\",\")\n",
    "                tablename = t+'.csv'\n",
    "            else:\n",
    "                tablename = 'table'+str(idx)+'_page'+str(page)+'.csv'\n",
    "            tb = table.df\n",
    "            processed_rows = [remove_enter_row(row) for index, row in tb.iterrows()]\n",
    "            flattened_rows = [item for sublist in processed_rows for item in sublist]\n",
    "            result_df = pd.DataFrame(flattened_rows, columns=tb.columns)\n",
    "            dfp = result_df.fillna('-')\n",
    "            dfp.to_csv(dir+'/'+tablename, index=False)\n",
    "            print('-----------------------------------------------------------------------')\n",
    "\n",
    "\n",
    "def pdf2csv(pdffile):\n",
    "    pdf = PDF(src=pdffile)\n",
    "    ocr = TesseractOCR(lang=\"eng\")\n",
    "    extracted_tables = pdf.extract_tables(ocr=ocr,\n",
    "                                          implicit_rows=True,\n",
    "                                          borderless_tables=False,\n",
    "                                          min_confidence=80)\n",
    "    dirname = pdffile.replace('.pdf','_tables')\n",
    "    if not os.path.exists(dirname):\n",
    "        os.makedirs(dirname)\n",
    "        \n",
    "    cleansave(extracted_tables,dirname)"
   ]
  },
  {
   "cell_type": "code",
   "execution_count": 3,
   "id": "0e431118-8f34-42a6-a2a9-fefbfcb2ba47",
   "metadata": {},
   "outputs": [
    {
     "name": "stdout",
     "output_type": "stream",
     "text": [
      "tesseract 5.3.3\n",
      " leptonica-1.83.1\n",
      "  libgif 5.2.1 : libjpeg 8d (libjpeg-turbo 3.0.0) : libpng 1.6.40 : libtiff 4.6.0 : zlib 1.2.11 : libwebp 1.3.2 : libopenjp2 2.5.0\n",
      " Found AVX2\n",
      " Found AVX\n",
      " Found FMA\n",
      " Found SSE4.1\n",
      " Found libarchive 3.7.2 zlib/1.2.11 liblzma/5.4.4 bz2lib/1.0.8 liblz4/1.9.4 libzstd/1.5.5\n",
      " Found libcurl/7.87.0 SecureTransport (LibreSSL/3.3.6) zlib/1.2.11 nghttp2/1.45.1\n",
      "-----------------------------------------------------------------------\n",
      "Title:5\n",
      "-----------------------------------------------------------------------\n",
      "-----------------------------------------------------------------------\n",
      "Title:Table 4\n",
      "priors used for diﬀerent free physical parameters and the ﬁxed parameters used in the ﬁt.\n",
      "-----------------------------------------------------------------------\n",
      "-----------------------------------------------------------------------\n",
      "Title:1.0\n",
      "-----------------------------------------------------------------------\n",
      "-----------------------------------------------------------------------\n",
      "Title:None\n",
      "-----------------------------------------------------------------------\n",
      "-----------------------------------------------------------------------\n",
      "Title:Observed color\n",
      "-----------------------------------------------------------------------\n",
      "-----------------------------------------------------------------------\n",
      "Title:None\n",
      "-----------------------------------------------------------------------\n",
      "-----------------------------------------------------------------------\n",
      "Title:ID = 4821 in GOODSS\n",
      "-----------------------------------------------------------------------\n",
      "-----------------------------------------------------------------------\n",
      "Title:ID = 2782 in GOODSS\n",
      "-----------------------------------------------------------------------\n",
      "-----------------------------------------------------------------------\n",
      "Title:ID = 4503 in GOODSS\n",
      "-----------------------------------------------------------------------\n",
      "-----------------------------------------------------------------------\n",
      "Title:= µA(x)µB(x) µA∩B(x)\n",
      "= + µA(x) µB(x) µA(x)µB(x) µA∪B(x) −\n",
      "-----------------------------------------------------------------------\n",
      "-----------------------------------------------------------------------\n",
      "Title:Table 7\n",
      "+ Table of the candidate galaxies and their likelihood measures from diﬀerent methods. The and next to the IDs show the candidates ∗\n",
      "found in the primary and secondary samples reported in Merlin et al. (2019), respectively. The next to the redshift indicates those with ∗\n",
      "available spectroscopic redshifts. The BBG, UVJ, and SED stand for likelihood based on the observed color, UVJ, and SED ﬁtting,\n",
      "respectively. MIPS and X-ray columns correspond to the detection in the MIPS 24 µm and X-ray. is log and Age is the M∗ (Ms/M⊙),\n",
      "age of the candidate galaxy in Gyrs. The galaxies that show a detection in MIPS 24 µm and X-ray are excluded from the\n",
      "number/stellar mass densities measurements (i.e., Figure 9).\n"
     ]
    },
    {
     "ename": "OSError",
     "evalue": "[Errno 63] File name too long: '2005.12507_tables/Table_7\\n+_Table_of_the_candidate_galaxies_and_their_likelihood_measures_from_diﬀerent_methods_The_and_next_to_the_IDs_show_the_candidates_∗\\nfound_in_the_primary_and_secondary_samples_reported_in_Merlin_et_al_(2019)_respectively_The_next_to_the_redshift_indicates_those_with_∗\\navailable_spectroscopic_redshifts_The_BBG_UVJ_and_SED_stand_for_likelihood_based_on_the_observed_color_UVJ_and_SED_ﬁtting\\nrespectively_MIPS_and_X-ray_columns_correspond_to_the_detection_in_the_MIPS_24_µm_and_X-ray_is_log_and_Age_is_the_M∗_(MsM⊙)\\nage_of_the_candidate_galaxy_in_Gyrs_The_galaxies_that_show_a_detection_in_MIPS_24_µm_and_X-ray_are_excluded_from_the\\nnumberstellar_mass_densities_measurements_(ie_Figure_9).csv'",
     "output_type": "error",
     "traceback": [
      "\u001b[0;31m---------------------------------------------------------------------------\u001b[0m",
      "\u001b[0;31mOSError\u001b[0m                                   Traceback (most recent call last)",
      "\u001b[0;32m/var/folders/hj/vgpx3js504l063vxjx2cgbdm0005ym/T/ipykernel_88244/2610433728.py\u001b[0m in \u001b[0;36m<module>\u001b[0;34m\u001b[0m\n\u001b[0;32m----> 1\u001b[0;31m \u001b[0mpdf2csv\u001b[0m\u001b[0;34m(\u001b[0m\u001b[0;34m'2005.12507.pdf'\u001b[0m\u001b[0;34m)\u001b[0m\u001b[0;34m\u001b[0m\u001b[0;34m\u001b[0m\u001b[0m\n\u001b[0m",
      "\u001b[0;32m/var/folders/hj/vgpx3js504l063vxjx2cgbdm0005ym/T/ipykernel_88244/4154853020.py\u001b[0m in \u001b[0;36mpdf2csv\u001b[0;34m(pdffile)\u001b[0m\n\u001b[1;32m     56\u001b[0m         \u001b[0mos\u001b[0m\u001b[0;34m.\u001b[0m\u001b[0mmakedirs\u001b[0m\u001b[0;34m(\u001b[0m\u001b[0mdirname\u001b[0m\u001b[0;34m)\u001b[0m\u001b[0;34m\u001b[0m\u001b[0;34m\u001b[0m\u001b[0m\n\u001b[1;32m     57\u001b[0m \u001b[0;34m\u001b[0m\u001b[0m\n\u001b[0;32m---> 58\u001b[0;31m     \u001b[0mcleansave\u001b[0m\u001b[0;34m(\u001b[0m\u001b[0mextracted_tables\u001b[0m\u001b[0;34m,\u001b[0m\u001b[0mdirname\u001b[0m\u001b[0;34m)\u001b[0m\u001b[0;34m\u001b[0m\u001b[0;34m\u001b[0m\u001b[0m\n\u001b[0m",
      "\u001b[0;32m/var/folders/hj/vgpx3js504l063vxjx2cgbdm0005ym/T/ipykernel_88244/4154853020.py\u001b[0m in \u001b[0;36mcleansave\u001b[0;34m(extracted_tables, dir)\u001b[0m\n\u001b[1;32m     41\u001b[0m             \u001b[0mresult_df\u001b[0m \u001b[0;34m=\u001b[0m \u001b[0mpd\u001b[0m\u001b[0;34m.\u001b[0m\u001b[0mDataFrame\u001b[0m\u001b[0;34m(\u001b[0m\u001b[0mflattened_rows\u001b[0m\u001b[0;34m,\u001b[0m \u001b[0mcolumns\u001b[0m\u001b[0;34m=\u001b[0m\u001b[0mtb\u001b[0m\u001b[0;34m.\u001b[0m\u001b[0mcolumns\u001b[0m\u001b[0;34m)\u001b[0m\u001b[0;34m\u001b[0m\u001b[0;34m\u001b[0m\u001b[0m\n\u001b[1;32m     42\u001b[0m             \u001b[0mdfp\u001b[0m \u001b[0;34m=\u001b[0m \u001b[0mresult_df\u001b[0m\u001b[0;34m.\u001b[0m\u001b[0mfillna\u001b[0m\u001b[0;34m(\u001b[0m\u001b[0;34m'-'\u001b[0m\u001b[0;34m)\u001b[0m\u001b[0;34m\u001b[0m\u001b[0;34m\u001b[0m\u001b[0m\n\u001b[0;32m---> 43\u001b[0;31m             \u001b[0mdfp\u001b[0m\u001b[0;34m.\u001b[0m\u001b[0mto_csv\u001b[0m\u001b[0;34m(\u001b[0m\u001b[0mdir\u001b[0m\u001b[0;34m+\u001b[0m\u001b[0;34m'/'\u001b[0m\u001b[0;34m+\u001b[0m\u001b[0mtablename\u001b[0m\u001b[0;34m,\u001b[0m \u001b[0mindex\u001b[0m\u001b[0;34m=\u001b[0m\u001b[0;32mFalse\u001b[0m\u001b[0;34m)\u001b[0m\u001b[0;34m\u001b[0m\u001b[0;34m\u001b[0m\u001b[0m\n\u001b[0m\u001b[1;32m     44\u001b[0m             \u001b[0mprint\u001b[0m\u001b[0;34m(\u001b[0m\u001b[0;34m'-----------------------------------------------------------------------'\u001b[0m\u001b[0;34m)\u001b[0m\u001b[0;34m\u001b[0m\u001b[0;34m\u001b[0m\u001b[0m\n\u001b[1;32m     45\u001b[0m \u001b[0;34m\u001b[0m\u001b[0m\n",
      "\u001b[0;32m~/opt/anaconda3/lib/python3.9/site-packages/pandas/core/generic.py\u001b[0m in \u001b[0;36mto_csv\u001b[0;34m(self, path_or_buf, sep, na_rep, float_format, columns, header, index, index_label, mode, encoding, compression, quoting, quotechar, lineterminator, chunksize, date_format, doublequote, escapechar, decimal, errors, storage_options)\u001b[0m\n\u001b[1;32m   3770\u001b[0m         )\n\u001b[1;32m   3771\u001b[0m \u001b[0;34m\u001b[0m\u001b[0m\n\u001b[0;32m-> 3772\u001b[0;31m         return DataFrameRenderer(formatter).to_csv(\n\u001b[0m\u001b[1;32m   3773\u001b[0m             \u001b[0mpath_or_buf\u001b[0m\u001b[0;34m,\u001b[0m\u001b[0;34m\u001b[0m\u001b[0;34m\u001b[0m\u001b[0m\n\u001b[1;32m   3774\u001b[0m             \u001b[0mlineterminator\u001b[0m\u001b[0;34m=\u001b[0m\u001b[0mlineterminator\u001b[0m\u001b[0;34m,\u001b[0m\u001b[0;34m\u001b[0m\u001b[0;34m\u001b[0m\u001b[0m\n",
      "\u001b[0;32m~/opt/anaconda3/lib/python3.9/site-packages/pandas/io/formats/format.py\u001b[0m in \u001b[0;36mto_csv\u001b[0;34m(self, path_or_buf, encoding, sep, columns, index_label, mode, compression, quoting, quotechar, lineterminator, chunksize, date_format, doublequote, escapechar, errors, storage_options)\u001b[0m\n\u001b[1;32m   1184\u001b[0m             \u001b[0mformatter\u001b[0m\u001b[0;34m=\u001b[0m\u001b[0mself\u001b[0m\u001b[0;34m.\u001b[0m\u001b[0mfmt\u001b[0m\u001b[0;34m,\u001b[0m\u001b[0;34m\u001b[0m\u001b[0;34m\u001b[0m\u001b[0m\n\u001b[1;32m   1185\u001b[0m         )\n\u001b[0;32m-> 1186\u001b[0;31m         \u001b[0mcsv_formatter\u001b[0m\u001b[0;34m.\u001b[0m\u001b[0msave\u001b[0m\u001b[0;34m(\u001b[0m\u001b[0;34m)\u001b[0m\u001b[0;34m\u001b[0m\u001b[0;34m\u001b[0m\u001b[0m\n\u001b[0m\u001b[1;32m   1187\u001b[0m \u001b[0;34m\u001b[0m\u001b[0m\n\u001b[1;32m   1188\u001b[0m         \u001b[0;32mif\u001b[0m \u001b[0mcreated_buffer\u001b[0m\u001b[0;34m:\u001b[0m\u001b[0;34m\u001b[0m\u001b[0;34m\u001b[0m\u001b[0m\n",
      "\u001b[0;32m~/opt/anaconda3/lib/python3.9/site-packages/pandas/io/formats/csvs.py\u001b[0m in \u001b[0;36msave\u001b[0;34m(self)\u001b[0m\n\u001b[1;32m    238\u001b[0m         \"\"\"\n\u001b[1;32m    239\u001b[0m         \u001b[0;31m# apply compression and byte/text conversion\u001b[0m\u001b[0;34m\u001b[0m\u001b[0;34m\u001b[0m\u001b[0m\n\u001b[0;32m--> 240\u001b[0;31m         with get_handle(\n\u001b[0m\u001b[1;32m    241\u001b[0m             \u001b[0mself\u001b[0m\u001b[0;34m.\u001b[0m\u001b[0mfilepath_or_buffer\u001b[0m\u001b[0;34m,\u001b[0m\u001b[0;34m\u001b[0m\u001b[0;34m\u001b[0m\u001b[0m\n\u001b[1;32m    242\u001b[0m             \u001b[0mself\u001b[0m\u001b[0;34m.\u001b[0m\u001b[0mmode\u001b[0m\u001b[0;34m,\u001b[0m\u001b[0;34m\u001b[0m\u001b[0;34m\u001b[0m\u001b[0m\n",
      "\u001b[0;32m~/opt/anaconda3/lib/python3.9/site-packages/pandas/io/common.py\u001b[0m in \u001b[0;36mget_handle\u001b[0;34m(path_or_buf, mode, encoding, compression, memory_map, is_text, errors, storage_options)\u001b[0m\n\u001b[1;32m    857\u001b[0m         \u001b[0;32mif\u001b[0m \u001b[0mioargs\u001b[0m\u001b[0;34m.\u001b[0m\u001b[0mencoding\u001b[0m \u001b[0;32mand\u001b[0m \u001b[0;34m\"b\"\u001b[0m \u001b[0;32mnot\u001b[0m \u001b[0;32min\u001b[0m \u001b[0mioargs\u001b[0m\u001b[0;34m.\u001b[0m\u001b[0mmode\u001b[0m\u001b[0;34m:\u001b[0m\u001b[0;34m\u001b[0m\u001b[0;34m\u001b[0m\u001b[0m\n\u001b[1;32m    858\u001b[0m             \u001b[0;31m# Encoding\u001b[0m\u001b[0;34m\u001b[0m\u001b[0;34m\u001b[0m\u001b[0m\n\u001b[0;32m--> 859\u001b[0;31m             handle = open(\n\u001b[0m\u001b[1;32m    860\u001b[0m                 \u001b[0mhandle\u001b[0m\u001b[0;34m,\u001b[0m\u001b[0;34m\u001b[0m\u001b[0;34m\u001b[0m\u001b[0m\n\u001b[1;32m    861\u001b[0m                 \u001b[0mioargs\u001b[0m\u001b[0;34m.\u001b[0m\u001b[0mmode\u001b[0m\u001b[0;34m,\u001b[0m\u001b[0;34m\u001b[0m\u001b[0;34m\u001b[0m\u001b[0m\n",
      "\u001b[0;31mOSError\u001b[0m: [Errno 63] File name too long: '2005.12507_tables/Table_7\\n+_Table_of_the_candidate_galaxies_and_their_likelihood_measures_from_diﬀerent_methods_The_and_next_to_the_IDs_show_the_candidates_∗\\nfound_in_the_primary_and_secondary_samples_reported_in_Merlin_et_al_(2019)_respectively_The_next_to_the_redshift_indicates_those_with_∗\\navailable_spectroscopic_redshifts_The_BBG_UVJ_and_SED_stand_for_likelihood_based_on_the_observed_color_UVJ_and_SED_ﬁtting\\nrespectively_MIPS_and_X-ray_columns_correspond_to_the_detection_in_the_MIPS_24_µm_and_X-ray_is_log_and_Age_is_the_M∗_(MsM⊙)\\nage_of_the_candidate_galaxy_in_Gyrs_The_galaxies_that_show_a_detection_in_MIPS_24_µm_and_X-ray_are_excluded_from_the\\nnumberstellar_mass_densities_measurements_(ie_Figure_9).csv'"
     ]
    }
   ],
   "source": [
    "pdf2csv('2005.12507.pdf')"
   ]
  },
  {
   "cell_type": "code",
   "execution_count": null,
   "id": "b87fc867-725d-4696-b966-0e787bebc8da",
   "metadata": {},
   "outputs": [],
   "source": []
  },
  {
   "cell_type": "code",
   "execution_count": null,
   "id": "f555b85e-ed47-4de4-a975-f37a04cda76f",
   "metadata": {},
   "outputs": [],
   "source": []
  },
  {
   "cell_type": "code",
   "execution_count": null,
   "id": "889eddcb-8558-4e91-b86d-3b89ac07126c",
   "metadata": {},
   "outputs": [],
   "source": []
  },
  {
   "cell_type": "code",
   "execution_count": null,
   "id": "56bebf20-ae29-4abb-8f5e-1a190f360167",
   "metadata": {},
   "outputs": [],
   "source": [
    "pdf = PDF(src='20')\n",
    "ocr = TesseractOCR(lang=\"eng\")\n",
    "extracted_tables = pdf.extract_tables(ocr=easyocr,implicit_rows=True,borderless_tables=False,min_confidence=30)\n",
    "for page, tables in extracted_tables.items():\n",
    "    for idx, table in enumerate(tables):\n",
    "        print(table)\n"
   ]
  },
  {
   "cell_type": "code",
   "execution_count": null,
   "id": "8e35abc5-938d-4f3d-b477-d4610e921b8d",
   "metadata": {},
   "outputs": [],
   "source": []
  }
 ],
 "metadata": {
  "kernelspec": {
   "display_name": "Python 3 (ipykernel)",
   "language": "python",
   "name": "python3"
  },
  "language_info": {
   "codemirror_mode": {
    "name": "ipython",
    "version": 3
   },
   "file_extension": ".py",
   "mimetype": "text/x-python",
   "name": "python",
   "nbconvert_exporter": "python",
   "pygments_lexer": "ipython3",
   "version": "3.9.17"
  }
 },
 "nbformat": 4,
 "nbformat_minor": 5
}
